{
 "cells": [
  {
   "cell_type": "markdown",
   "metadata": {},
   "source": [
    "### <u>Problem statement</u>: Paths in matrix\n",
    "Given a matrix of size $n \\times m$ that contains only $0s$ s and $1s$, where $0$ means that the cell is a wall in that cell, create a function that returns the number of paths that we can take to go to the reight bottom cell, knowing that you can move to the right or to the bottom only."
   ]
  },
  {
   "cell_type": "markdown",
   "metadata": {},
   "source": [
    "Brute force solution\n",
    "\n",
    "* Time complexity\n",
    "  * $\\Omicron(2^{n \\times m})$\n",
    "* Space complexity\n",
    "  * $\\Omicron(n+m)$\n"
   ]
  },
  {
   "cell_type": "code",
   "execution_count": null,
   "metadata": {},
   "outputs": [],
   "source": [
    "def paths(matrix, i=0, j=0):\n",
    "    n = len(matrix)\n",
    "    m = len(matrix[0])\n",
    "    if i > n-1 or j > m-1 or matrix[i][j] == 1:\n",
    "        return 0\n",
    "    elif i == n-1 and j == m-1:\n",
    "        return 1\n",
    "    else:\n",
    "        return paths(matrix, i+1, j) + paths(matrix, i, j+1)"
   ]
  },
  {
   "cell_type": "markdown",
   "metadata": {},
   "source": [
    "The optimal solution involve using dynamic programming\n",
    "\n",
    "* Time complexity\n",
    "  * $\\Omicron(n \\times m)$\n",
    "* Space complexity\n",
    "  * $\\Omicron(n \\times m)$\n",
    "\n"
   ]
  },
  {
   "cell_type": "code",
   "execution_count": null,
   "metadata": {},
   "outputs": [],
   "source": [
    "def paths(matrix):\n",
    "    n = len(matrix)\n",
    "    m = len(matrix[0])\n",
    "    memo = [(0) * m for i in range(n)]\n",
    "    # Here we are on the top right cell\n",
    "    # if it's 1 there's no path so we return 0\n",
    "    if matrix[0][0] == 1:\n",
    "        memo[0][0] = 0\n",
    "    # If it's 0 then we have 1 path\n",
    "    else:\n",
    "        memo[0][0] = 1\n",
    "    # Then we move to the 1st row\n",
    "    for i in range(1, m):\n",
    "        # the actual cell is a wall so we put 0\n",
    "        if matrix[0][i] == 1:\n",
    "            memo[0][i] = 0\n",
    "        # else it's equal to the previous cell\n",
    "        else:\n",
    "            memo[0][i] = memo[0][i-1]\n",
    "    # Moving to the 1st column, same logic here\n",
    "    for i in range(1, n):\n",
    "        if matrix[i][0] == 1:\n",
    "            memo[i][0] = 0\n",
    "        else:\n",
    "            memo[i][0] = memo[i-1][0]\n",
    "    for i in range(1, n):\n",
    "        for j in range(1, m):\n",
    "            if matrix[i][j] == 1:\n",
    "                memo[i][j] == 0\n",
    "            else:\n",
    "                memo[i][j] = memo[i-1][j] + memo[i][j-1]\n",
    "    return memo[n-1][m-1 ]"
   ]
  }
 ],
 "metadata": {
  "kernelspec": {
   "display_name": "Python 3.10.4 ('pytorch')",
   "language": "python",
   "name": "python3"
  },
  "language_info": {
   "codemirror_mode": {
    "name": "ipython",
    "version": 3
   },
   "file_extension": ".py",
   "mimetype": "text/x-python",
   "name": "python",
   "nbconvert_exporter": "python",
   "pygments_lexer": "ipython3",
   "version": "3.10.4"
  },
  "orig_nbformat": 4,
  "vscode": {
   "interpreter": {
    "hash": "580318c0c86e0542a7f2f9882bbbc393e6c88c07c2a75daeff3d2ea36de686a2"
   }
  }
 },
 "nbformat": 4,
 "nbformat_minor": 2
}
