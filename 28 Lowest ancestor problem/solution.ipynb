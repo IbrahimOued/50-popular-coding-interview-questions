{
 "cells": [
  {
   "cell_type": "markdown",
   "metadata": {},
   "source": [
    "### <u>Problem statement</u>: Lowest common ancestor\n",
    "Given a binary tree `root` and 2 integers `num1` and `num2`, create a function that returns the lowest common ancestor of `num1` and `num2`. The lowest common ancestor is the deepest not in `root` that has both `num1` and `num2` as descendants, and we consider a node as a descendant of itself."
   ]
  },
  {
   "cell_type": "markdown",
   "metadata": {},
   "source": [
    "1. We get path from root to num1 and from root to num2\n",
    "2. We search for the last common node in both paths"
   ]
  },
  {
   "cell_type": "code",
   "execution_count": 18,
   "metadata": {},
   "outputs": [],
   "source": [
    "class Node:\n",
    "    def __init__(self, data, right=None, left=None) -> None:\n",
    "        self.data = data\n",
    "        self.right = right\n",
    "        self.left = left\n",
    "\n",
    "node54 = Node(54)\n",
    "node88 = Node(88, node54)\n",
    "node35 = Node(35)\n",
    "node22 = Node(22, node35, node88)\n",
    "node33 = Node(33)\n",
    "node90 = Node(90, None, node33)\n",
    "node95 = Node(95)\n",
    "node99 = Node(99, node90, node95)\n",
    "node44 = Node(44, node22, node99)\n",
    "node77 = Node(77)\n",
    "root_node = Node(55, node44, node77)"
   ]
  },
  {
   "cell_type": "markdown",
   "metadata": {},
   "source": [
    "### **Solution 1**\n",
    "\n",
    "* Time complexity\n",
    "  * $\\Omicron(n)$\n",
    "* Space complexity\n",
    "  * $\\Omicron(h)$ because the maximum call stack is $h$ when we reach the bottom of the tree."
   ]
  },
  {
   "cell_type": "code",
   "execution_count": 19,
   "metadata": {},
   "outputs": [],
   "source": [
    "def getPath(root, path, num):\n",
    "    if root is None:\n",
    "        return False\n",
    "    path.append(root)\n",
    "    if root.data == num:\n",
    "        return True\n",
    "    if getPath(root.left, path, num) or getPath(root.right, path, num):\n",
    "        return True\n",
    "    path.pop()\n",
    "    return False\n",
    "\n",
    "def lowestCommonAncestorSol1(root, num1, num2):\n",
    "    pathNum1 = []\n",
    "    pathNum2 = []\n",
    "    if not getPath(root=root, path=pathNum1, num=num1) or not getPath(root=root, path=pathNum2, num=num2):\n",
    "        return None\n",
    "    minLenght = min(len(pathNum1), len(pathNum2))\n",
    "    i = 0\n",
    "    while i < minLenght:\n",
    "        if pathNum1[i].data == pathNum2[i].data:\n",
    "            i+=1\n",
    "        else:\n",
    "            break\n",
    "    return pathNum1[i-1]"
   ]
  },
  {
   "cell_type": "code",
   "execution_count": 20,
   "metadata": {},
   "outputs": [
    {
     "name": "stdout",
     "output_type": "stream",
     "text": [
      "44\n"
     ]
    }
   ],
   "source": [
    "common_ancestor1 = lowestCommonAncestorSol1(root_node, node33.data, node88.data)\n",
    "print(common_ancestor1.data)"
   ]
  },
  {
   "cell_type": "markdown",
   "metadata": {},
   "source": [
    "### **Solution 2**\n",
    "\n",
    "* Time complexity\n",
    "  * $\\Omicron(n)$\n",
    "* Space complexity\n",
    "  * $\\Omicron(h)$"
   ]
  },
  {
   "cell_type": "code",
   "execution_count": 21,
   "metadata": {},
   "outputs": [],
   "source": [
    "def lowestCommonAncestorSol2(root, num1, num2):\n",
    "    if root is None:\n",
    "        return None\n",
    "    if root.data == num1 or root.data == num2:\n",
    "        return root\n",
    "    left_lowestCA = lowestCommonAncestorSol2(root.left, num1, num2)\n",
    "    right_lowestCA = lowestCommonAncestorSol2(root.right, num1, num2)\n",
    "    if left_lowestCA is not None and right_lowestCA is not None:\n",
    "        return root\n",
    "    return left_lowestCA if left_lowestCA is not None else right_lowestCA"
   ]
  },
  {
   "cell_type": "code",
   "execution_count": 22,
   "metadata": {},
   "outputs": [
    {
     "name": "stdout",
     "output_type": "stream",
     "text": [
      "44\n"
     ]
    }
   ],
   "source": [
    "common_ancestor2 = lowestCommonAncestorSol2(root_node, node33.data, node88.data)\n",
    "print(common_ancestor2.data)"
   ]
  },
  {
   "cell_type": "code",
   "execution_count": 23,
   "metadata": {},
   "outputs": [
    {
     "name": "stdout",
     "output_type": "stream",
     "text": [
      "44\n"
     ]
    }
   ],
   "source": [
    "def find_node_in_tree(target, root_node):\n",
    "    if not root_node:\n",
    "        return False\n",
    "    if target == root_node:\n",
    "        return True\n",
    "    else:\n",
    "        return (find_node_in_tree(target, root_node.left) or find_node_in_tree(target, root_node.right))\n",
    "\n",
    "def find_first_common_ancestor(root, node1, node2):\n",
    "    # If these nodes exist in the left subtree or not\n",
    "    node1_on_left = find_node_in_tree(node1, root.left)\n",
    "    node2_on_left = find_node_in_tree(node2, root.left)\n",
    "\n",
    "    if node1_on_left ^ node2_on_left:\n",
    "        return root\n",
    "    else:\n",
    "        if node1_on_left:\n",
    "            return find_first_common_ancestor(root.left, node1, node2)\n",
    "        else:\n",
    "            return find_first_common_ancestor(root.right, node1, node2)\n",
    "\n",
    "\n",
    "common_ancestor = find_first_common_ancestor(root_node, node88, node33)\n",
    "print(common_ancestor.data)"
   ]
  }
 ],
 "metadata": {
  "kernelspec": {
   "display_name": "Python 3.7.13 ('tflow')",
   "language": "python",
   "name": "python3"
  },
  "language_info": {
   "codemirror_mode": {
    "name": "ipython",
    "version": 3
   },
   "file_extension": ".py",
   "mimetype": "text/x-python",
   "name": "python",
   "nbconvert_exporter": "python",
   "pygments_lexer": "ipython3",
   "version": "3.7.13"
  },
  "orig_nbformat": 4,
  "vscode": {
   "interpreter": {
    "hash": "46351c491966987bac499a70b9eb3cfa6654f8548f3e1b556c80bd36edd6baee"
   }
  }
 },
 "nbformat": 4,
 "nbformat_minor": 2
}
