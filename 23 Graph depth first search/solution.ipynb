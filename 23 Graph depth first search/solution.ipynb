{
 "cells": [
  {
   "cell_type": "markdown",
   "metadata": {},
   "source": [
    "### <u>Problem statement</u>:  Graph depth first search\n",
    "Given an undirected graph of intergers `graph`, represented by an adjacency list, and an integer `root`, create a function that prints its values in depth first search, by considering the vertex whose value is `root` as the arbitrary node."
   ]
  },
  {
   "cell_type": "code",
   "execution_count": 37,
   "metadata": {},
   "outputs": [
    {
     "name": "stdout",
     "output_type": "stream",
     "text": [
      "{'A': ['B', 'C'], 'B': ['A', 'D', 'E'], 'C': ['A', 'E'], 'D': ['B', 'E', 'F'], 'E': ['D', 'F'], 'F': ['D', 'E']}\n"
     ]
    }
   ],
   "source": [
    "class Graph:\n",
    "    def __init__(self, graph_dict=None):\n",
    "        if graph_dict is None:\n",
    "            graph_dict = {}\n",
    "        self.graph_dict = graph_dict\n",
    "\n",
    "    def add_edge(self, vertex, edge):\n",
    "        if vertex not in self.graph_dict:\n",
    "            self.graph_dict[vertex] = []\n",
    "        self.graph_dict[vertex].append(edge)\n",
    "\n",
    "\n",
    "cust_dict = {\n",
    "    'A': ['B', 'C'],\n",
    "    'B': ['A', 'D', 'E'],\n",
    "    'C': ['A', 'E'],\n",
    "    'D': ['B', 'E', 'F'],\n",
    "    'E': ['D', 'F'],\n",
    "    'F': ['D', 'E']\n",
    "}\n",
    "\n",
    "graph = Graph(cust_dict)\n",
    "print(graph.graph_dict)"
   ]
  },
  {
   "cell_type": "code",
   "execution_count": 38,
   "metadata": {},
   "outputs": [],
   "source": [
    "def dfs(graph, root):\n",
    "    visited = set(root)\n",
    "    stack = [root]\n",
    "    while stack:\n",
    "        p_vertex = stack.pop()\n",
    "        print(p_vertex)\n",
    "        for adjacent_vertex in graph[p_vertex]:\n",
    "            if adjacent_vertex not in visited:\n",
    "                visited.add(adjacent_vertex)\n",
    "                stack.append(adjacent_vertex)"
   ]
  },
  {
   "cell_type": "markdown",
   "metadata": {},
   "source": [
    "\n",
    "* Time complexity\n",
    "  * $\\Omicron(V+E)$\n",
    "* Space complexity\n",
    "  * $\\Omicron(V)$"
   ]
  },
  {
   "cell_type": "code",
   "execution_count": 39,
   "metadata": {},
   "outputs": [],
   "source": [
    "def dfs_rec(graph, root, visited = set()):\n",
    "    if root in visited:\n",
    "        return\n",
    "    else:\n",
    "        print(root)\n",
    "        visited.add(root)\n",
    "        for neighbor in graph[root]:\n",
    "            dfs_rec(graph, neighbor, visited)"
   ]
  },
  {
   "cell_type": "code",
   "execution_count": 40,
   "metadata": {},
   "outputs": [
    {
     "name": "stdout",
     "output_type": "stream",
     "text": [
      "A\n",
      "C\n",
      "E\n",
      "F\n",
      "D\n",
      "B\n"
     ]
    }
   ],
   "source": [
    "dfs(graph=cust_dict, root=\"A\")"
   ]
  },
  {
   "cell_type": "code",
   "execution_count": 41,
   "metadata": {},
   "outputs": [
    {
     "name": "stdout",
     "output_type": "stream",
     "text": [
      "A\n",
      "B\n",
      "D\n",
      "E\n",
      "F\n",
      "C\n"
     ]
    }
   ],
   "source": [
    "dfs_rec(graph=cust_dict, root=\"A\")"
   ]
  }
 ],
 "metadata": {
  "kernelspec": {
   "display_name": "Python 3.10.4 ('pytorch')",
   "language": "python",
   "name": "python3"
  },
  "language_info": {
   "codemirror_mode": {
    "name": "ipython",
    "version": 3
   },
   "file_extension": ".py",
   "mimetype": "text/x-python",
   "name": "python",
   "nbconvert_exporter": "python",
   "pygments_lexer": "ipython3",
   "version": "3.10.4"
  },
  "orig_nbformat": 4,
  "vscode": {
   "interpreter": {
    "hash": "580318c0c86e0542a7f2f9882bbbc393e6c88c07c2a75daeff3d2ea36de686a2"
   }
  }
 },
 "nbformat": 4,
 "nbformat_minor": 2
}
