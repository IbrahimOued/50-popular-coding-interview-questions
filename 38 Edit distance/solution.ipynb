{
 "cells": [
  {
   "cell_type": "markdown",
   "metadata": {},
   "source": [
    "### <u>Problem statement</u>: Edit distance\n",
    "\n",
    "Given 2 words as strings `word1` and `word2`, create a function that returns the minimum number of operations required to convert `word1` to `word2`. Note that we have $3$ possible operations. We can either ***insert*** a character, or ***remove*** a character, or ***replace*** a character.\n",
    "\n",
    "```bash\n",
    "input: word1  = \"inside\"\n",
    "       word2  = \"index\"\n",
    "\n",
    "```"
   ]
  },
  {
   "cell_type": "markdown",
   "metadata": {},
   "source": [
    "We'll give a solution using the **levenshtein distance**\n",
    "\n",
    "* Time complexity\n",
    "  * $\\Omicron(3^{n+m})$\n",
    "* Space complexity\n",
    "  * $\\Omicron(n+m)$"
   ]
  },
  {
   "cell_type": "code",
   "execution_count": null,
   "metadata": {},
   "outputs": [],
   "source": [
    "def minDistance(word1, word2, i=0, j=0):\n",
    "    if i == len(word1):\n",
    "        return len(word2)-j\n",
    "    elif j == len(word2):\n",
    "        return len(word1)-i\n",
    "    elif word1[i] == word2[j]:\n",
    "        return minDistance(word1, word2, i+1, j+1)\n",
    "    else:\n",
    "        return 1 + min(minDistance(word1, word2, 1+1, j), minDistance(word1, word2, i, j+1), minDistance(word1, word2, i+1, j+1)) # 1 is the current operation count\n"
   ]
  },
  {
   "cell_type": "markdown",
   "metadata": {},
   "source": [
    "We will use once again dynamic programming to find the optimal solution. Here we will use **tabulation** because we need all intermediate values. So, we will need a $2$-D matrix of $n+m$ rows and $n+m$ columns.\n"
   ]
  },
  {
   "cell_type": "markdown",
   "metadata": {},
   "source": [
    "* Time complexity\n",
    "  * $\\Omicron(n \\times m)$\n",
    "* Space complexity\n",
    "  * $\\Omicron(nm)$"
   ]
  },
  {
   "cell_type": "code",
   "execution_count": null,
   "metadata": {},
   "outputs": [],
   "source": [
    "def minDistance(word1, word2):\n",
    "    n = len(word1)\n",
    "    m = len(word2)\n",
    "    dp = [0 * (m+1) for i in range(n+1)]\n",
    "    for i in range(m+1): dp[0][i] = i   # 1st cells row\n",
    "    for i in range(n+1): dp[i][0] = i   # 1st cells columns\n",
    "    for i in range(1, n+1):             # other cells, one for rows\n",
    "        for j in range(1, m+1):         # and one for columns\n",
    "            if word1[i-1] == word2[j-1]:\n",
    "                dp[i][j] = dp[i-1][j-1]\n",
    "            else:\n",
    "                dp[i][j] = 1 + min(\n",
    "                    dp[i-1][j],     # the top cell\n",
    "                    dp[i][j-1],     # the left cell\n",
    "                    dp[i-1][j-1])   # the top-left cell\n",
    "    return dp[n][m]"
   ]
  },
  {
   "cell_type": "markdown",
   "metadata": {},
   "source": [
    "Can be optimized by using a temporary array as we did in the longest common subsequence problem."
   ]
  }
 ],
 "metadata": {
  "language_info": {
   "name": "python"
  },
  "orig_nbformat": 4
 },
 "nbformat": 4,
 "nbformat_minor": 2
}
