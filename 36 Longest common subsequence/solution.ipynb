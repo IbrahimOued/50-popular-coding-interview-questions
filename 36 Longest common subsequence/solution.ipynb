{
 "cells": [
  {
   "cell_type": "markdown",
   "metadata": {},
   "source": [
    "### <u>Problem statement</u>: Longest common subsequence\n",
    "\n",
    "Given $2$ strings `str1` and `str2`, create a function that returns the length of their longest common subsequence that is present in both of them."
   ]
  },
  {
   "cell_type": "markdown",
   "metadata": {},
   "source": [
    "The brute force solution is as follow:\n",
    "\n",
    "* We generate all subsequences of `str1`\n",
    "* For each one of them\n",
    "  * if it's also a subsequence of `str2` and its length is greater than `maxLength`\n",
    "    * then it replaces `maxLength`"
   ]
  },
  {
   "cell_type": "markdown",
   "metadata": {},
   "source": [
    "* Time complexity\n",
    "  * $\\Omicron((n + m)2^n)$\n",
    "* Space complexity\n",
    "  * $\\Omicron(n2^n)$"
   ]
  },
  {
   "cell_type": "code",
   "execution_count": null,
   "metadata": {},
   "outputs": [],
   "source": [
    "def lcs(str1, str2):\n",
    "    maxLength = 0\n",
    "    subsequences = getSubsequences(str1)\n",
    "    for subsequence in subsequences:\n",
    "        if isSubsequence(str2, subsequence) and len(subsequence) > maxLength:\n",
    "            maxLenght = len(subsequence)\n",
    "    return maxLength"
   ]
  },
  {
   "cell_type": "markdown",
   "metadata": {},
   "source": [
    "Another solution would use the divide and conquer algorithm. This solution belongs to the divide and conquer algorithm domain:"
   ]
  },
  {
   "cell_type": "markdown",
   "metadata": {},
   "source": [
    "* Time complexity\n",
    "  * $\\Omicron(2^{n+m})$\n",
    "* Space complexity\n",
    "  * $\\Omicron(n + m)$"
   ]
  },
  {
   "cell_type": "code",
   "execution_count": null,
   "metadata": {},
   "outputs": [],
   "source": [
    "def lcs(str1, str2, i=0, j=0):\n",
    "    if i == len(str1) or j == len(str2):\n",
    "        return 0\n",
    "    elif str1[i] == str[j]:\n",
    "        return 1 + lcs(str1, str2, i+1, j+1)\n",
    "    else:\n",
    "        return max(lcs(str1, str2, i+1, j), lcs(lcs(str1, str2, i, j+1)))"
   ]
  },
  {
   "cell_type": "markdown",
   "metadata": {},
   "source": [
    "Let's optimize this solution by using **dynamic programming and memoization**. We'll proceed in 4 steps:\n",
    "1. Add a hash(dict) as parameter\n",
    "2. Create the `key`\n",
    "3. Check if the `memoiz[key]` exists\n",
    "4. Modify the general case"
   ]
  },
  {
   "cell_type": "markdown",
   "metadata": {},
   "source": [
    "* Time complexity\n",
    "  * $\\Omicron(n \\times m)$\n",
    "* Space complexity\n",
    "  * $\\Omicron(n \\times m)$"
   ]
  },
  {
   "cell_type": "code",
   "execution_count": null,
   "metadata": {},
   "outputs": [],
   "source": [
    "# 0 How to process to pass from\n",
    "# simple divide and conquer to\n",
    "# DP with memoization\n",
    "\n",
    "# 1 Add a dic to store the memo value\n",
    "def lcs(str1, str2, i=0, j=0, memoiz = {}):\n",
    "    #============================================================================\n",
    "    # 2 We create the key for the dict => most of the time the changing parameter\n",
    "    key = str(i) + \"\" + str(j)\n",
    "    # 3 Check if we didn't perform the actual function call (does the dict contain a\n",
    "    # value for a call with these i and j?)\n",
    "    if memoiz.get(key) is not None:\n",
    "        return memoiz[key]\n",
    "    #============================================================================\n",
    "    # 4 In the general case, we don't directly return the result, it has to to store\n",
    "    # in the dict before\n",
    "    elif i == len(str1) or j == len(str2):\n",
    "        return 0\n",
    "    elif str1[i] == str[j]:\n",
    "        return 1 + lcs(str1, str2, i+1, j+1)\n",
    "    else:\n",
    "        #============================================================================\n",
    "        output = max(lcs(str1, str2, i+1, j), lcs(lcs(str1, str2, i, j+1)))\n",
    "        memoiz[key]  = output\n",
    "        #============================================================================\n",
    "        return output"
   ]
  },
  {
   "cell_type": "markdown",
   "metadata": {},
   "source": [
    "Let's optimize this solution by using **dynamic programming and tabulation**. We'll do this by using a $2$-D"
   ]
  },
  {
   "cell_type": "markdown",
   "metadata": {},
   "source": [
    "* Time complexity\n",
    "  * $\\Omicron(n \\times m)$\n",
    "* Space complexity\n",
    "  * $\\Omicron(n \\times m)$"
   ]
  },
  {
   "cell_type": "code",
   "execution_count": null,
   "metadata": {},
   "outputs": [],
   "source": [
    "def lcs(str1, str2):\n",
    "    n = len(str1)\n",
    "    m = len(str2)\n",
    "    dp = [[0] * (m+1) for i in range(n+1)]\n",
    "    for i in range(1, n+1):\n",
    "        for j in range(1, m+1):\n",
    "            if str1[i-1] == str2[j-1]:\n",
    "                dp[i][j] = 1 + dp[i-1][j-1]\n",
    "            else:\n",
    "                dp[i][j] = max(dp[i-1][j]), dp[i][j-1]\n",
    "    return dp[n][m]"
   ]
  },
  {
   "cell_type": "markdown",
   "metadata": {},
   "source": [
    "Let's optimize this again by using a temporary array instead of a $2$-D array"
   ]
  },
  {
   "cell_type": "markdown",
   "metadata": {},
   "source": [
    "* Time complexity\n",
    "  * $\\Omicron(n \\times m)$\n",
    "* Space complexity\n",
    "  * $\\Omicron(m)$"
   ]
  },
  {
   "cell_type": "code",
   "execution_count": null,
   "metadata": {},
   "outputs": [],
   "source": [
    "def lcs(str1, str2):\n",
    "    n = len(str1)\n",
    "    m = len(str2)\n",
    "    dp = [0] * (m+1)\n",
    "    tempDp = [0] * (m+1)\n",
    "    for i in range(1, n+1):\n",
    "        for j in range(1, m+1):\n",
    "            if str1[i-1] == str2[j-1]:\n",
    "                tempDp[j] = 1 + dp[j-1]\n",
    "            else:\n",
    "                tempDp[j] = max(tempDp[j-1]), dp[j]\n",
    "        for j in range(1, m+1):\n",
    "            dp[j] = tempDp[j]\n",
    "            tempDp[j] = 0\n",
    "    return dp[m]"
   ]
  }
 ],
 "metadata": {
  "language_info": {
   "name": "python"
  },
  "orig_nbformat": 4
 },
 "nbformat": 4,
 "nbformat_minor": 2
}
