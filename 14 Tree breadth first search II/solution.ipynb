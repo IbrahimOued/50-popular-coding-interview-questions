{
 "cells": [
  {
   "cell_type": "markdown",
   "metadata": {},
   "source": [
    "### <u>Problem statement</u>: Tree breadth search II\n",
    "Given a binary tree of integers root, create a function that returns an array where each element represents an array that contains the elements at level $i$"
   ]
  },
  {
   "cell_type": "markdown",
   "metadata": {},
   "source": [
    "* Time complexity\n",
    "  * $\\Omicron(n)$\n",
    "* Space complexity\n",
    "  * $\\Omicron(n)$"
   ]
  },
  {
   "cell_type": "code",
   "execution_count": null,
   "metadata": {},
   "outputs": [],
   "source": [
    "def getValuesByLevel(root):\n",
    "    output = []\n",
    "    queue = [[root, 0]]\n",
    "    i = 0\n",
    "    while i < len(queue):\n",
    "        poppedNode = queue[i][0]\n",
    "        level = queue[i][1]\n",
    "        i+=1\n",
    "        if poppedNode is None:\n",
    "            continue\n",
    "        else:\n",
    "            if len(output) <= level:\n",
    "                output.append([])\n",
    "\n",
    "            output[level].append(poppedNode.data)\n",
    "            queue.append([poppedNode.left, level+1])\n",
    "            queue.append([poppedNode.right, level+1])\n",
    "    return output"
   ]
  }
 ],
 "metadata": {
  "language_info": {
   "name": "python"
  },
  "orig_nbformat": 4
 },
 "nbformat": 4,
 "nbformat_minor": 2
}
