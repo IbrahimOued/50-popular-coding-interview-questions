{
 "cells": [
  {
   "cell_type": "markdown",
   "metadata": {},
   "source": [
    "### <u>Problem statement</u>: Array permutations\n",
    "\n",
    "Given an array of integers `arr`, create a function that returns all its possible permutations without duplicates, the order doesn't matter.\n",
    "\n",
    "Example:\n",
    "\n",
    "```bash\n",
    "input  = [1, 2, 3]\n",
    "output = [\n",
    "    [1, 2, 3],\n",
    "    [1, 3, 2],\n",
    "    [2, 1, 2],\n",
    "       ...\n",
    "    [3, 2, 1]\n",
    "]\n",
    "```\n",
    "```bash\n",
    "to get permutations of an array:\n",
    "    for each index i:\n",
    "        we remove arr[i] from the array\n",
    "        we get permuatations of the remaining elements\n",
    "        for each one of them:\n",
    "            we concatenate the removed element and we got a permutation\n",
    "```"
   ]
  },
  {
   "cell_type": "markdown",
   "metadata": {},
   "source": [
    "* Time complexity\n",
    "  * $\\Omicron(n * n!)$\n",
    "* Space complexity\n",
    "  * $\\Omicron(n * n!)$"
   ]
  },
  {
   "cell_type": "code",
   "execution_count": null,
   "metadata": {},
   "outputs": [],
   "source": [
    "def getPermutations(arr):\n",
    "    if len(arr) < 2:\n",
    "        return [arr]\n",
    "    else:\n",
    "        permutations = []\n",
    "        for i in range(len(arr)):\n",
    "            if arr[i] not in arr[:i]: # For the without duplicates\n",
    "                remaining = arr.copy()\n",
    "                remaining.pop(i)\n",
    "                remainingPermutations = getPermutations(remaining)\n",
    "                removedElement = [arr[i]]\n",
    "\n",
    "                for permutation in remainingPermutations:\n",
    "                    permutations.append(removedElement + permutation)\n",
    "        return permutations"
   ]
  },
  {
   "cell_type": "code",
   "execution_count": null,
   "metadata": {},
   "outputs": [],
   "source": [
    "# Another solution to get all permutations of an array\n",
    "# TODO: Check that solution also"
   ]
  },
  {
   "cell_type": "markdown",
   "metadata": {},
   "source": []
  }
 ],
 "metadata": {
  "language_info": {
   "name": "python"
  },
  "orig_nbformat": 4
 },
 "nbformat": 4,
 "nbformat_minor": 2
}
