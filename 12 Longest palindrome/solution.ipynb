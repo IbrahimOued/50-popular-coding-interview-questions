{
 "cells": [
  {
   "cell_type": "markdown",
   "metadata": {},
   "source": [
    "\n",
    "### <u>Problem statement</u>: Longest palindrome\n",
    "Given a string `str` made of alphabetical letters only, create a function that returns the lenfth of the longest palindrome string that can be made from letters of `str`.\n",
    "> NB: This problem is different from the one asking for the longest palindromic **subsequence which will use a divide and conquer method to solve it**\n",
    "```python\n",
    "input: str = \"abbaba\"\n",
    "output : 5\n",
    "explanation: One of the longest palindromes that can be made it \"baaab\", its lenght is 5\n",
    "```"
   ]
  },
  {
   "cell_type": "markdown",
   "metadata": {},
   "source": [
    "* Time complexity\n",
    "  * $\\Omicron(n)$\n",
    "* Space complexity\n",
    "  * $\\Omicron(1)$"
   ]
  },
  {
   "cell_type": "code",
   "execution_count": null,
   "metadata": {},
   "outputs": [],
   "source": [
    "def findLongestPalindrome(str):\n",
    "    occurences = [0] * 128\n",
    "    for letter in str:\n",
    "        occurences[ord(letter)] += 1\n",
    "        \n",
    "    length = 0\n",
    "    for occu in occurences:\n",
    "        # if the number of letter is even we take all\n",
    "        # otherwise we take only the direct odd number\n",
    "        # if we have for exemple 3 'b' we'll only take 2 of them in the else condition\n",
    "        length+= occu if occu % 2 == 0 else occu - 1\n",
    "    # If there are remaining lellers we take one of them as center\n",
    "    if length < len(str):\n",
    "        length += 1\n",
    "    return length"
   ]
  }
 ],
 "metadata": {
  "language_info": {
   "name": "python"
  },
  "orig_nbformat": 4
 },
 "nbformat": 4,
 "nbformat_minor": 2
}
