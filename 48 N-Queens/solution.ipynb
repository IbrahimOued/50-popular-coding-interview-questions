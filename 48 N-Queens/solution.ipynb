{
 "cells": [
  {
   "cell_type": "markdown",
   "metadata": {},
   "source": [
    "### <u>Problem statement</u>: N-Queens\n",
    "\n",
    "Given a positive integer `n`, create a function that returns the number of possible ways to put `n` queens in an $n \\times n$ chessboard such that no two queens attack each other. Note that two queens attack each other when **they are on the same row, column, or diagonal**."
   ]
  },
  {
   "cell_type": "markdown",
   "metadata": {},
   "source": [
    "* Time complexity\n",
    "  * $\\Omicron(n.n!)$\n",
    "* Space complexity\n",
    "  * $\\Omicron(n^2)$"
   ]
  },
  {
   "cell_type": "code",
   "execution_count": null,
   "metadata": {},
   "outputs": [],
   "source": [
    "def isNotAttacked(board, row, col):\n",
    "    i = row-1\n",
    "    jLeft = col-1\n",
    "    jRight = col+1\n",
    "    while i >= 0:\n",
    "        if board[i][col] == 'Q'\\\n",
    "            or (jLeft >= 0 and board[i][jLeft] == 'Q')\\\n",
    "            or (jRight < len(board) and board[i][jRight] == 'Q'):\n",
    "            return False\n",
    "        else:\n",
    "            i -= 1\n",
    "            jLeft -= 1\n",
    "            jRight += 1\n",
    "    return True\n",
    "\n",
    "def nQueensRec(n, board, row):\n",
    "    if row >= n:\n",
    "        return 1\n",
    "    sumWays = 0\n",
    "    for i in range(n):\n",
    "        if isNotAttacked(board, row, i):\n",
    "            board[row][i] = 'Q'\n",
    "            sumWays += nQueensRec(n, board, row+1)\n",
    "            board[row][i] = '.'\n",
    "    return sumWays\n",
    "\n",
    "def nQueens(n):\n",
    "    board = [['.'] * n for i in range(n)]\n",
    "    return nQueensRec(n, board, 0)"
   ]
  }
 ],
 "metadata": {
  "language_info": {
   "name": "python"
  },
  "orig_nbformat": 4
 },
 "nbformat": 4,
 "nbformat_minor": 2
}
