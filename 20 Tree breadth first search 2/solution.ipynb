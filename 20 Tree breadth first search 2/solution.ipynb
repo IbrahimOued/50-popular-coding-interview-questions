{
 "cells": [
  {
   "cell_type": "markdown",
   "metadata": {},
   "source": [
    "### <u>Problem statement</u>: Tee breadth first search 2\n",
    "Given a binary tree of integers `root`, create a function that returns an array where each element represents an array that contains the elements at level $i$."
   ]
  },
  {
   "cell_type": "markdown",
   "metadata": {},
   "source": [
    "Brute force solution\n",
    "\n",
    "* Time complexity\n",
    "  * $\\Omicron()$\n",
    "* Space complexity\n",
    "  * $\\Omicron()$"
   ]
  },
  {
   "cell_type": "markdown",
   "metadata": {},
   "source": []
  }
 ],
 "metadata": {
  "language_info": {
   "name": "python"
  },
  "orig_nbformat": 4
 },
 "nbformat": 4,
 "nbformat_minor": 2
}
