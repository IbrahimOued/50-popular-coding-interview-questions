{
 "cells": [
  {
   "cell_type": "markdown",
   "metadata": {},
   "source": [
    "### <u>Problem statement</u>: Longest common substring\n",
    "\n",
    "Given 2 strings `str1` and `str2` made of alphabetical letter only, create a function that returns the length of their common substring.\n",
    "\n",
    "> The difference between ***subsequence*** and ***substring*** is the **contingueness**. ***substring*** must be contiguous which is not the case for ***subsequence***"
   ]
  },
  {
   "cell_type": "markdown",
   "metadata": {},
   "source": [
    "The brute force solution is as follow"
   ]
  },
  {
   "cell_type": "markdown",
   "metadata": {},
   "source": [
    "* Time complexity\n",
    "  * $\\Omicron(mn^3)$\n",
    "* Space complexity\n",
    "  * $\\Omicron(1)$"
   ]
  },
  {
   "cell_type": "code",
   "execution_count": null,
   "metadata": {},
   "outputs": [],
   "source": [
    "def lcs(str1, str2):\n",
    "    maxLength = 0\n",
    "    for i in range(len(str1)):\n",
    "        for j in range(i+1, len(str2)+1):   # + 1 is important because the 2nd parameter of the\n",
    "                                            # function which return the substring between index i and j in exclusive\n",
    "            if str[i:j] in str2:\n",
    "                maxLength = max(maxLength, j-1)\n",
    "    return maxLength"
   ]
  },
  {
   "cell_type": "markdown",
   "metadata": {},
   "source": [
    "Let's try to solve it using recursion"
   ]
  },
  {
   "cell_type": "markdown",
   "metadata": {},
   "source": [
    "* Time complexity\n",
    "  * $\\Omicron(3^{n+m})$\n",
    "* Space complexity\n",
    "  * $\\Omicron(n+m)$ "
   ]
  },
  {
   "cell_type": "code",
   "execution_count": null,
   "metadata": {},
   "outputs": [],
   "source": [
    "def lcs(str1, str2, i=0, j=0, currLength=0):\n",
    "    if i == len(str1) or j == len(str2):\n",
    "        return currLength\n",
    "    elif str1[i] == str2[j]:\n",
    "        return max(lcs(str1, str2, i+1, j+1, currLength+1), lcs(str1, str2, i+1, j, 0), lcs(str1, str2, i, j+1, 0))\n",
    "    else:\n",
    "        return max(currLength, lcs(str1, str2, i+1, j, 0), lcs(str1, str2, i, j+1, 0))"
   ]
  },
  {
   "cell_type": "markdown",
   "metadata": {},
   "source": [
    "This solution is even worse than the $1^{st}$ one but..."
   ]
  },
  {
   "cell_type": "markdown",
   "metadata": {},
   "source": [
    "We can improve it using dynamic programming (as always). For that, we will use a row of $n+1$ rows and $m+1$ columns where each cell `dp[i][j]` represents the length of the longest common substring that end at that index. It means that the substring must contain the character of that cell. That means that if $\\text{str1}[i-1] \\neq \\text{str2}[j-1]$, the we directly put $0$ **because we are searching for a common substring, all characters must be equal**"
   ]
  },
  {
   "cell_type": "markdown",
   "metadata": {},
   "source": [
    "* Time complexity\n",
    "  * $\\Omicron(nm)$\n",
    "* Space complexity\n",
    "  * $\\Omicron(nm)$"
   ]
  },
  {
   "cell_type": "code",
   "execution_count": null,
   "metadata": {},
   "outputs": [],
   "source": [
    "def lcs(str1, str2):\n",
    "    n = len(str1)\n",
    "    m = len(str2)\n",
    "    dp = [[0] * (m+1) for i in range(n+1)]\n",
    "    maxLength = 0\n",
    "    for i in range(1, n+1):\n",
    "        for j in range(1, m+1):\n",
    "            if str1[i-1] == str2[j-1]:\n",
    "                dp[i][j] = 1 + dp[i-1][j-1]\n",
    "                maxLength = max(maxLength, dp[i][j])\n",
    "            else:\n",
    "                dp[i][j] = 0\n",
    "    return maxLength"
   ]
  },
  {
   "cell_type": "markdown",
   "metadata": {},
   "source": [
    "We can solve this problem by using a **suffix tree**. What is that? It's a data structure that is used to **store all the suffixes of a string**. To understand how does it work, let's build the suffix tree of the string `banana`. Before, let's add a special character at the end of our string `$`.\n",
    "\n",
    "*\"banana$\"*"
   ]
  },
  {
   "cell_type": "markdown",
   "metadata": {},
   "source": [
    "* Time complexity\n",
    "  * $\\Omicron(n + m)$\n",
    "* Space complexity\n",
    "  * $\\Omicron((n+m)^2)$"
   ]
  },
  {
   "cell_type": "code",
   "execution_count": null,
   "metadata": {},
   "outputs": [],
   "source": [
    "def getLcsFromSuffixTree(suffixTree):\n",
    "    if not suffixTree.hasSuffixFromStr1 or not suffixTree.hasSuffixFromStr2:\n",
    "        return 0\n",
    "    else:\n",
    "        maxFromChild = 0\n",
    "        for child in suffixTree.childre:\n",
    "            maxFromChild = max(maxFromChild, getLcsFromSuffixTree(child))\n",
    "        return len(suffixTree.text) + maxFromChild\n",
    "\n",
    "def lcs(str1, str2):\n",
    "    concatenation = str1 + \"*\" + str2 + \"$\"\n",
    "    suffixTree = SuffixTree(concatenation)\n",
    "    return getLcsFromSuffixTree(suffixTree)"
   ]
  }
 ],
 "metadata": {
  "language_info": {
   "name": "python"
  },
  "orig_nbformat": 4
 },
 "nbformat": 4,
 "nbformat_minor": 2
}
