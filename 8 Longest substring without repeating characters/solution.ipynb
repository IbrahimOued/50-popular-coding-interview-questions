{
 "cells": [
  {
   "cell_type": "markdown",
   "metadata": {},
   "source": [
    "### <u>Problem statement</u>: Longest substring without repeating characters\n",
    "Given a string `str` made of alphabetical letters only, create a function that returns the length of the longest substring without repeating characters."
   ]
  },
  {
   "cell_type": "markdown",
   "metadata": {},
   "source": [
    "Brute force solution\n",
    "* Time complexity\n",
    "  * $\\Omicron(n^3)$\n",
    "* Space complexity\n",
    "  * $\\Omicron(1)$"
   ]
  },
  {
   "cell_type": "code",
   "execution_count": null,
   "metadata": {},
   "outputs": [],
   "source": [
    "def withoutRepeating(str):\n",
    "    visited = [False] * 128 # 128 to cover all the ASCII letters\n",
    "    for ch in str:\n",
    "        if visited[ord(ch)]:\n",
    "            return False\n",
    "        else:\n",
    "            visited[ord(ch)] = True\n",
    "    return True\n",
    "\n",
    "def longestSubstringWithoutRepeating(str):\n",
    "    maxLength = 0\n",
    "    for i in range(len(str)):\n",
    "        for j in range(i, len(str)):\n",
    "            substr = str[i:j+1]\n",
    "            if withoutRepeating(substr) and len(substr) > maxLength:\n",
    "                maxLength = len(substr)\n",
    "    return maxLength"
   ]
  },
  {
   "cell_type": "markdown",
   "metadata": {},
   "source": [
    "* Time complexity\n",
    "  * $\\Omicron(n)$\n",
    "* Space complexity\n",
    "  * $\\Omicron(1)$"
   ]
  },
  {
   "cell_type": "code",
   "execution_count": null,
   "metadata": {},
   "outputs": [],
   "source": [
    "def longestSubstringWithoutRepeating(str):\n",
    "    maxLength = 0\n",
    "    start = 0\n",
    "    indexes = [-1] * 128\n",
    "    for i in range(len(str)):\n",
    "        if indexes[ord(str[i])] >= start:\n",
    "            start = indexes[ord(str[i])] + 1\n",
    "        indexes[ord(str[i])] = 1\n",
    "        maxLength = max(maxLength, i-start+1)\n",
    "    return maxLength"
   ]
  }
 ],
 "metadata": {
  "language_info": {
   "name": "python"
  },
  "orig_nbformat": 4
 },
 "nbformat": 4,
 "nbformat_minor": 2
}
