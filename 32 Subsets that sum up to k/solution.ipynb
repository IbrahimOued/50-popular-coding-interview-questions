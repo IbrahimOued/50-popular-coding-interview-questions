{
 "cells": [
  {
   "cell_type": "markdown",
   "metadata": {},
   "source": [
    "### <u>Problem statement</u>: Subsets that sum up to k\n",
    "\n",
    "Given an array of **strictly positive integers** `arr` and an integer `k`, create a function that returns the number of subsets that sum up to `k`.\n",
    "\n",
    "This is what we are looking for\n",
    "\n",
    "$$\n",
    "\\sum^{i=n-1}_{i=0} subset[i] = k\n",
    "$$\n",
    "\n",
    "We will put in practice the take or leave method here:\n",
    "At each index of `arr`, we will have two choices, to take `arr[i]` in our subset, or to leave it and continue"
   ]
  },
  {
   "cell_type": "markdown",
   "metadata": {},
   "source": [
    "* Time complexity\n",
    "  * $\\Omicron(2^n)$\n",
    "* Space complexity\n",
    "  * $\\Omicron(n)$"
   ]
  },
  {
   "cell_type": "code",
   "execution_count": null,
   "metadata": {},
   "outputs": [],
   "source": [
    "def subsetsThatSumUpToK(arr, k, i=0, sum=0):\n",
    "    if sum == k:\n",
    "        return 1\n",
    "    elif sum > k or i > len(arr):\n",
    "        return 0\n",
    "    else:\n",
    "        return subsetsThatSumUpToK(arr, k, i+1, sum+arr[i]) + subsetsThatSumUpToK(arr, k, i+1, sum)"
   ]
  },
  {
   "cell_type": "markdown",
   "metadata": {},
   "source": [
    "The optimal solution will use dynamic programming and memoization\n",
    "\n",
    "* Time complexity\n",
    "  * $\\Omicron(nk)$\n",
    "* Space complexity\n",
    "  * $\\Omicron(nk)$"
   ]
  },
  {
   "cell_type": "code",
   "execution_count": null,
   "metadata": {},
   "outputs": [],
   "source": [
    "def subsetsThatSumUpToK(arr, k, i=0, sum=0, memo = {}):\n",
    "    key = str(i) + \"\" + str(sum)\n",
    "    if memo.get(key) is not None:\n",
    "        return memo[key]\n",
    "    elif sum == k:\n",
    "        return 1\n",
    "    elif sum > k or i >= len(arr):\n",
    "        return 0\n",
    "    else:\n",
    "        nbSubsets = subsetsThatSumUpToK(arr, k, i+1, sum + arr[i], memo) +\\\n",
    "            subsetsThatSumUpToK(arr, k, i+1, sum, memo)\n",
    "        memo[key] = nbSubsets\n",
    "        return nbSubsets"
   ]
  }
 ],
 "metadata": {
  "language_info": {
   "name": "python"
  },
  "orig_nbformat": 4
 },
 "nbformat": 4,
 "nbformat_minor": 2
}
