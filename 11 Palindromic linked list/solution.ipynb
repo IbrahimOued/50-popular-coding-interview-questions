{
 "cells": [
  {
   "cell_type": "markdown",
   "metadata": {},
   "source": [
    "### <u>Problem statement</u>: Palindromic linked list\n",
    "Given a linked list of integers list, create a boolean function that checks if it's a palindrome linked list in constant space complexity"
   ]
  },
  {
   "cell_type": "markdown",
   "metadata": {},
   "source": [
    "* Time complexity\n",
    "  * $\\Omicron(n^2)$\n",
    "* Space complexity\n",
    "  * $\\Omicron(1)$"
   ]
  },
  {
   "cell_type": "code",
   "execution_count": null,
   "metadata": {},
   "outputs": [],
   "source": [
    "def isPalindromic(llist):\n",
    "    length = 0\n",
    "    temp = llist.head\n",
    "    while temp:\n",
    "        length += 1\n",
    "        temp = temp.next\n",
    "    left = llist.head\n",
    "    for i in range(length//2):\n",
    "        right = llist.head\n",
    "        for j in range(length-i-1):\n",
    "            right = right.next\n",
    "        if left.data != right.data:\n",
    "            return False\n",
    "        left = left.next"
   ]
  },
  {
   "cell_type": "markdown",
   "metadata": {},
   "source": [
    "The optimal solution using the fast and slow algorithm.\n",
    "Our solution will have 3 parts\n",
    "1. Find the beginning of the right half\n",
    "2. Reverse the right half\n",
    "3. Compare the 2 halves\n",
    "\n",
    "* Time complexity\n",
    "  * $\\Omicron(n)$\n",
    "* Space complexity\n",
    "  * $\\Omicron(1)$"
   ]
  },
  {
   "cell_type": "code",
   "execution_count": null,
   "metadata": {},
   "outputs": [],
   "source": [
    "def reverseLinkedList(llist):\n",
    "    previous = None\n",
    "    current = llist.head\n",
    "    while current is not None:\n",
    "        next = current.next\n",
    "        current.next = previous\n",
    "        previous = current\n",
    "        current = next\n",
    "    return previous\n",
    "\n",
    "# The slow and fast technique is a useful technique\n",
    "# to reach the middle of a linked list when we don't\n",
    "# have its length \n",
    "def isPalindromeList(llist):\n",
    "    slow, fast = llist.head\n",
    "    while fast and fast.next:\n",
    "        slow = slow.next\n",
    "        fast = fast.next.next\n",
    "\n",
    "    slow = reverseLinkedList(slow)\n",
    "    head = llist.head    # We could have reused fast\n",
    "    while slow:\n",
    "        if slow.data != head.data:\n",
    "            return False\n",
    "        slow = slow.next\n",
    "        head = head.next\n",
    "    return True"
   ]
  }
 ],
 "metadata": {
  "language_info": {
   "name": "python"
  },
  "orig_nbformat": 4
 },
 "nbformat": 4,
 "nbformat_minor": 2
}
