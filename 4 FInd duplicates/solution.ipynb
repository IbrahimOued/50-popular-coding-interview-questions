{
 "cells": [
  {
   "cell_type": "markdown",
   "metadata": {},
   "source": [
    "### <u>Problem statement</u>: Find duplicates\n",
    "\n",
    "Given an array of integers `arr` that contains $n+1$ elements between 1 and n inclusive, create a function that returns the duplicate element (the element that appears more than once)\n",
    "\n",
    "Assume that:\n",
    "* There is only one duplicate number\n",
    "* The duplicate number can be repeated more than once"
   ]
  },
  {
   "cell_type": "markdown",
   "metadata": {},
   "source": [
    "One solution solution exist (using hashmap) but it's not the optimal one\n",
    "* Time complexity\n",
    "  * $\\Omicron(n)$\n",
    "* Space complexity\n",
    "  * $\\Omicron(n)$"
   ]
  },
  {
   "cell_type": "code",
   "execution_count": null,
   "metadata": {},
   "outputs": [],
   "source": [
    "def findDuplicate(arr):\n",
    "    visited = {}\n",
    "    for element in arr:\n",
    "        if visited.get(element):\n",
    "            return element\n",
    "        else:\n",
    "            visited[element] = True\n",
    "    return False"
   ]
  },
  {
   "cell_type": "markdown",
   "metadata": {},
   "source": [
    "The optimal solution uses the **Floyd's cycle detection algorithm (turtoise an hare)**\\\n",
    "It's uses to detect cycles in a linked list.\\\n",
    "We will use the fast and slow pointer technique: The turtoise an hare:\n",
    "\n",
    "* **We put both of them on the first node then the turtoise will be moving one node at the time while the hare will be moving 2 nodes at the time until they eventually meet**.\n",
    "* **After they've met, we put the turtoise at the starting node once again and both turtoise and hare will be moving one node at the time this time, until they met again (they will met at the first node of the cycle)**\n",
    "\n",
    "We will transform our list into linked list with every element pointing at the index of its own value\n",
    "\n",
    "$[5, 2, 4, 2, 1, 6, 3]$\n",
    "\n",
    "* The $1st$ element is $5$ and it will point to the element at index $5$ of the array which is $6$\n",
    "* The $2nd$ element is $2$ and it will point to the element at index $2$ of the array which is $4$\n",
    "* $\\dots$\n",
    "\n",
    "* Time complexity\n",
    "  * $\\Omicron(n)$\n",
    "* Space complexity\n",
    "  * $\\Omicron(1)$"
   ]
  },
  {
   "cell_type": "code",
   "execution_count": 7,
   "metadata": {},
   "outputs": [
    {
     "name": "stdout",
     "output_type": "stream",
     "text": [
      "============Starting point=============\n",
      "turoise 5 ----- hare 6\n",
      "================Moving=================\n",
      "turoise 6 ----- hare 2\n",
      "turoise 3 ----- hare 1\n",
      "turoise 2 ----- hare 4\n",
      "turoise 4 ----- hare 2\n",
      "turoise 1 ----- hare 1\n",
      "==========Turtoise is starting over=====\n",
      "turoise 5 ----- hare 2\n",
      "turoise 6 ----- hare 4\n",
      "turoise 3 ----- hare 1\n",
      "turoise 2 ----- hare 2\n",
      "==========They've met again=============\n",
      "turoise 2 ----- hare 2\n",
      "2\n"
     ]
    }
   ],
   "source": [
    "def findDuplicate(arr):\n",
    "    print(\"============Starting point=============\")\n",
    "    turtoise = arr[0]\n",
    "    hare = arr[arr[0]]\n",
    "    print(\"turoise %d ----- hare %d\" % (turtoise, hare))\n",
    "    print(\"================Moving=================\")\n",
    "    while turtoise != hare:\n",
    "        turtoise = arr[turtoise]\n",
    "        hare = arr[arr[hare]]\n",
    "        print(\"turoise %d ----- hare %d\" % (turtoise, hare))\n",
    "    turtoise = 0\n",
    "    print(\"==========Turtoise is starting over=====\")\n",
    "    while turtoise != hare:\n",
    "        turtoise = arr[turtoise]\n",
    "        hare = arr[hare]\n",
    "        print(\"turoise %d ----- hare %d\" % (turtoise, hare))\n",
    "    print(\"==========They've met again=============\")\n",
    "    print(\"turoise %d ----- hare %d\" % (turtoise, hare))\n",
    "    return turtoise\n",
    "\n",
    "arr = [5, 2, 4, 2, 1, 6, 3]\n",
    "print(findDuplicate(arr))"
   ]
  },
  {
   "cell_type": "markdown",
   "metadata": {},
   "source": []
  }
 ],
 "metadata": {
  "kernelspec": {
   "display_name": "Python 3.10.4 ('pytorch')",
   "language": "python",
   "name": "python3"
  },
  "language_info": {
   "codemirror_mode": {
    "name": "ipython",
    "version": 3
   },
   "file_extension": ".py",
   "mimetype": "text/x-python",
   "name": "python",
   "nbconvert_exporter": "python",
   "pygments_lexer": "ipython3",
   "version": "3.10.6"
  },
  "orig_nbformat": 4,
  "vscode": {
   "interpreter": {
    "hash": "580318c0c86e0542a7f2f9882bbbc393e6c88c07c2a75daeff3d2ea36de686a2"
   }
  }
 },
 "nbformat": 4,
 "nbformat_minor": 2
}
