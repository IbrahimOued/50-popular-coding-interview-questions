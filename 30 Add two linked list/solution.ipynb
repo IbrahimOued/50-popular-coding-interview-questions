{
 "cells": [
  {
   "cell_type": "markdown",
   "metadata": {},
   "source": [
    "### <u>Problem statement</u>: Add two linked list\n",
    "Given two linked lists `list1` and `list2` that represent two positive integers, create a function that returns the linked list that represents their sum. Note that the two integers don't contain any leading zero except the number 0 itself, and that each node contains one digit only, and that the digits are stored in reverse order.\n",
    "\n",
    "```bash\n",
    "input:  list1 = 3 -> 2 -> 1 -> null\n",
    "        list2 = 5 -> 9 -> 4 -> 3 -> null\n",
    "\n",
    "output: 8 -> 1 -> 6 -> 3 -> null\n",
    "\n",
    "Explanation: 123 + 3495 = 3618\n",
    "```"
   ]
  },
  {
   "cell_type": "code",
   "execution_count": null,
   "metadata": {},
   "outputs": [],
   "source": [
    "\n",
    "\n",
    "def addTwoLinkedList(list1, list2):\n",
    "    output = LinkedList()\n",
    "    ptr1 = list1.head\n",
    "    ptr2 = list2.head\n",
    "    tail = None\n",
    "    carry = 0\n",
    "    while ptr1 or ptr2 or carry > 0:\n",
    "        digit1 = ptr1.data if ptr1 else 0\n",
    "        digit2 = ptr2.data if ptr2 else 0\n",
    "        nextDigit = (digit1 + digit2 + carry) % 10\n",
    "        carry = (digit1 + digit2 + carry) // 10\n",
    "        # Correspond to the add method of a linked list\n",
    "        newNode = Node(nextDigit)\n",
    "        if output.head is None:\n",
    "            output.head = newNode\n",
    "            tail = newNode\n",
    "        else:\n",
    "            tail.next = newNode\n",
    "            tail = tail.next\n",
    "        # end of the add section\n",
    "        ptr1 = ptr1.next if ptr1 else None\n",
    "        ptr2 = ptr2.next if ptr2 else None\n",
    "    return output"
   ]
  }
 ],
 "metadata": {
  "language_info": {
   "name": "python"
  },
  "orig_nbformat": 4
 },
 "nbformat": 4,
 "nbformat_minor": 2
}
