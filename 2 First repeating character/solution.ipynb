{
 "cells": [
  {
   "cell_type": "markdown",
   "metadata": {},
   "source": [
    "### <u>Problem statement</u>: Find the first repeating character\n",
    "\n",
    "Given a string `str`, create a function that returns the fist repeating character(the first character tht we have seen before). If such a character doesn't exist, return the null character `'\\0'`"
   ]
  },
  {
   "cell_type": "markdown",
   "metadata": {},
   "source": [
    "Optimal solution (using hashmap)\n",
    "* Time complexity\n",
    "  * $\\Omicron(n)$\n",
    "* Space complexity\n",
    "  * $\\Omicron(n)$"
   ]
  },
  {
   "cell_type": "code",
   "execution_count": null,
   "metadata": {},
   "outputs": [],
   "source": [
    "def firstRepeating(str):\n",
    "    visited = {}\n",
    "    for s in str:\n",
    "        if visited.get(s):\n",
    "            return s\n",
    "        else:\n",
    "            visited[s] = True\n",
    "    return '\\0'"
   ]
  }
 ],
 "metadata": {
  "language_info": {
   "name": "python"
  },
  "orig_nbformat": 4
 },
 "nbformat": 4,
 "nbformat_minor": 2
}
