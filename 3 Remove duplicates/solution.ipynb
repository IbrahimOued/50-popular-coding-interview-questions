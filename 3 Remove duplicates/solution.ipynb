{
 "cells": [
  {
   "cell_type": "markdown",
   "metadata": {},
   "source": [
    "### <u>Problem statement</u>: Remove duplicates\n",
    "\n",
    "Given an array of integers `arr`, create a function that returns an array that contains the values of `arr` without duplicates (the order doesn't matter)"
   ]
  },
  {
   "cell_type": "markdown",
   "metadata": {},
   "source": [
    "Optimal solution (using hashmap)\n",
    "* Time complexity\n",
    "  * $\\Omicron(n)$\n",
    "* Space complexity\n",
    "  * $\\Omicron(n)$"
   ]
  },
  {
   "cell_type": "code",
   "execution_count": null,
   "metadata": {},
   "outputs": [],
   "source": [
    "def removeDuplicates(arr):\n",
    "    noDuplcates = set()\n",
    "    for element in arr:\n",
    "        noDuplcates[element] = True\n",
    "    return list(noDuplcates.keys())"
   ]
  }
 ],
 "metadata": {
  "language_info": {
   "name": "python"
  },
  "orig_nbformat": 4
 },
 "nbformat": 4,
 "nbformat_minor": 2
}
