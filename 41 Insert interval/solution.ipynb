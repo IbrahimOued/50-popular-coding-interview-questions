{
 "cells": [
  {
   "cell_type": "markdown",
   "metadata": {},
   "source": [
    "### <u>Problem statement</u>: Insert interval problem\n",
    " Given an interval `newInterval` and an array of `intervals`, create a function that inserts that `newInterval` in the array, and to merge if necessary. Note that the `intervals` in the array are non-overlapping, and are sorted accoring to their starting point."
   ]
  },
  {
   "cell_type": "markdown",
   "metadata": {},
   "source": [
    "When we want to insert a new interval, we have to pass by 3 phases:\n",
    "1. The phase before inserting\n",
    "2. The phase while inserting\n",
    "3. The phase after inserting"
   ]
  },
  {
   "cell_type": "markdown",
   "metadata": {},
   "source": [
    "* Time complexity\n",
    "  * $\\Omicron(n)$\n",
    "* Space complexity\n",
    "  * $\\Omicron(n)$"
   ]
  },
  {
   "cell_type": "code",
   "execution_count": null,
   "metadata": {},
   "outputs": [],
   "source": [
    "def insertInterval(intervals, newInterval):\n",
    "    output = []\n",
    "    i = 0\n",
    "    while i < len(intervals) and intervals[i][1] < newInterval[0]:\n",
    "        output.append(intervals[i])\n",
    "        i += 1\n",
    "    while i < len(intervals) and intervals[i][0] <= newInterval[i]:\n",
    "        newInterval[0] = min(newInterval[0], intervals[i][0])\n",
    "        newInterval[1] = max(newInterval[1], intervals[i][1])\n",
    "        i += 1\n",
    "    output.append(newInterval)\n",
    "    while i < len(newInterval):\n",
    "        output.append(intervals[i])\n",
    "        i += 1\n",
    "    return output"
   ]
  }
 ],
 "metadata": {
  "language_info": {
   "name": "python"
  },
  "orig_nbformat": 4
 },
 "nbformat": 4,
 "nbformat_minor": 2
}
