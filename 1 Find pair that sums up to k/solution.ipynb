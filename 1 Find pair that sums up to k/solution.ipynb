{
 "cells": [
  {
   "cell_type": "markdown",
   "metadata": {},
   "source": [
    "### <u>Problem statement</u>: Find pairs that sums up to k\n",
    "\n",
    "Given an array of integers `arr` and an integer `k`, create a boolean function that checks if there exists two element i `arr` such that we get `k` when we add them together"
   ]
  },
  {
   "cell_type": "markdown",
   "metadata": {},
   "source": [
    "Brute force solution\n",
    "* Time complexity\n",
    "  * $\\Omicron(n^2)$\n",
    "* Space complexity\n",
    "  * $\\Omicron(1)$"
   ]
  },
  {
   "cell_type": "code",
   "execution_count": null,
   "metadata": {},
   "outputs": [],
   "source": [
    "def findPair(arr, k):\n",
    "    for i in range(len(arr)):\n",
    "        for j in range(i+1, len(arr)):\n",
    "            if arr[i]+arr[j] == k:\n",
    "                return True\n",
    "    return False"
   ]
  },
  {
   "cell_type": "markdown",
   "metadata": {},
   "source": [
    "Solution with a sorted array\n",
    "* Time complexity\n",
    "  * $\\Omicron(nlogn)$\n",
    "* Space complexity\n",
    "  * $\\Omicron(1)$ if we are allowed to modify the array\n",
    "  * $\\Omicron(n)$ if not"
   ]
  },
  {
   "cell_type": "code",
   "execution_count": null,
   "metadata": {},
   "outputs": [],
   "source": [
    "def findPair(arr, k):\n",
    "    arr.sort()\n",
    "    left = 0\n",
    "    right = len(arr)-1\n",
    "    while left < right:\n",
    "        if arr[left] + arr[right] == k:\n",
    "            return True\n",
    "        elif arr[left] + arr[right] < k:\n",
    "            left += 1\n",
    "        else:\n",
    "            right += 1"
   ]
  },
  {
   "cell_type": "markdown",
   "metadata": {},
   "source": [
    "Optimal solution(using hashmap)\n",
    "* Time complexity\n",
    "  * $\\Omicron(n)$\n",
    "* Space complexity\n",
    "  * $\\Omicron(n)$"
   ]
  },
  {
   "cell_type": "code",
   "execution_count": null,
   "metadata": {},
   "outputs": [],
   "source": [
    "def findPair(arr, k):\n",
    "    visited = {}\n",
    "    for element in arr:\n",
    "        if visited.get(k-element):\n",
    "            return True\n",
    "        else:\n",
    "            visited[element] = True\n",
    "    return False"
   ]
  }
 ],
 "metadata": {
  "kernelspec": {
   "display_name": "Python 3.10.4 ('analytics')",
   "language": "python",
   "name": "python3"
  },
  "language_info": {
   "name": "python",
   "version": "3.10.4"
  },
  "orig_nbformat": 4,
  "vscode": {
   "interpreter": {
    "hash": "5052bdfd4928f465c492d21ff3d7daf709b24acb81685a4e868a1ee9dbe33934"
   }
  }
 },
 "nbformat": 4,
 "nbformat_minor": 2
}
