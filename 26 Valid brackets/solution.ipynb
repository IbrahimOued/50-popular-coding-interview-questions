{
 "cells": [
  {
   "cell_type": "markdown",
   "metadata": {},
   "source": [
    "### <u>Problem statement</u>: Valid brackets\n",
    "Given a string `str` made of 3 types of brackets only `(){}[]`, create a function that checks if the string is valid. The string is considered valid if all opening brackets are closed with the same type of brackets, and in the correct order."
   ]
  },
  {
   "cell_type": "markdown",
   "metadata": {},
   "source": [
    "* Time complexity\n",
    "  * $\\Omicron(n)$\n",
    "* Space complexity\n",
    "  * $\\Omicron(n)$"
   ]
  },
  {
   "cell_type": "code",
   "execution_count": null,
   "metadata": {},
   "outputs": [],
   "source": [
    "def areBracketsValid():\n",
    "    bracketsMap = {'(': ')', '{':'}', '[': ']'}\n",
    "    openingBrackets = ['(', '{', '[']\n",
    "    stack = []\n",
    "    for bracket in str:\n",
    "        if bracket in openingBrackets:\n",
    "            stack.append(bracket)\n",
    "        elif len(stack) > 0 and bracket == bracketsMap[stack[-1]]:\n",
    "            stack.pop()\n",
    "        else:\n",
    "            return False\n",
    "    return len(stack) == 0  # Return True if there are no more elements, valid, false otherwise"
   ]
  }
 ],
 "metadata": {
  "language_info": {
   "name": "python"
  },
  "orig_nbformat": 4
 },
 "nbformat": 4,
 "nbformat_minor": 2
}
