{
 "cells": [
  {
   "cell_type": "markdown",
   "metadata": {},
   "source": [
    "### <u>Problem statement</u>: Ways to climb stairs\n",
    "\n",
    "Given a staircase of `n` steps, and a set of possible steps that we can climb at a time named `possibleSteps`, create a function that returns the number of ways that a person can take to reach the top of the staircase."
   ]
  },
  {
   "cell_type": "markdown",
   "metadata": {},
   "source": [
    "The f\n",
    "```bash\n",
    "Example:  n = 0\n",
    "        possibleSteps = {1, 3}\n",
    "output: 1 way, we are already at the top\n",
    "\n",
    "Example:  n = 1\n",
    "        possibleSteps = {1, 3}\n",
    "output: 1\n",
    "```"
   ]
  },
  {
   "cell_type": "markdown",
   "metadata": {},
   "source": [
    "* Time complexity\n",
    "  * $\\Omicron(m^n)$\n",
    "* Space complexity\n",
    "  * $\\Omicron(n)$"
   ]
  },
  {
   "cell_type": "code",
   "execution_count": null,
   "metadata": {},
   "outputs": [],
   "source": [
    "def waysToClimb(n, possibleSteps):\n",
    "    if n == 0:\n",
    "        return 1\n",
    "    nbWays = 0\n",
    "    for steps in possibleSteps:\n",
    "        if(n-steps) >= 0:\n",
    "            nbWays += waysToClimb(n-steps, possibleSteps)\n",
    "    return nbWays"
   ]
  },
  {
   "cell_type": "markdown",
   "metadata": {},
   "source": [
    "The optimal solution uses dynamic programming\n",
    "\n",
    "* Time complexity\n",
    "  * $\\Omicron(m \\times n)$\n",
    "* Space complexity\n",
    "  * $\\Omicron(n)$"
   ]
  },
  {
   "cell_type": "code",
   "execution_count": null,
   "metadata": {},
   "outputs": [],
   "source": [
    "def waysToClimb(n, possibleSteps):\n",
    "    nbWaysArr = [0] * (n+1)\n",
    "    nbWaysArr[0] = 1 # base case\n",
    "    for i in range(1, n+1):\n",
    "        nbWays = 0\n",
    "        for steps in possibleSteps:\n",
    "            if(i-steps) >= 0:   # To prevent negative and out of bounds\n",
    "                nbWays += nbWaysArr[i-steps]\n",
    "        nbWaysArr[i] = nbWays\n",
    "    return nbWaysArr[n]\n"
   ]
  }
 ],
 "metadata": {
  "language_info": {
   "name": "python"
  },
  "orig_nbformat": 4
 },
 "nbformat": 4,
 "nbformat_minor": 2
}
