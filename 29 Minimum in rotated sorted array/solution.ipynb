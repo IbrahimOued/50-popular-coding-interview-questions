{
 "cells": [
  {
   "cell_type": "markdown",
   "metadata": {},
   "source": [
    "### <u>Problem statement</u>: Minimum in rotated sorted array\n",
    "Given a non-empty rotated sorted array of integers `arr` that has no duplicates, create a function that returns the minimum.\n",
    "\n",
    "Note that the array is sorted in ascending order, and that it's rotated by an unknown number of positions to the right."
   ]
  },
  {
   "cell_type": "markdown",
   "metadata": {},
   "source": [
    "The brute force an naive solution to this problem is to do a linear search to find the minimum.\n",
    "\n",
    "* Time complexity\n",
    "  * $\\Omicron(n)$\n",
    "* Space complexity\n",
    "  * $\\Omicron(1)$ "
   ]
  },
  {
   "cell_type": "code",
   "execution_count": null,
   "metadata": {},
   "outputs": [],
   "source": [
    "def minimum(arr):\n",
    "    return min(arr)"
   ]
  },
  {
   "cell_type": "markdown",
   "metadata": {},
   "source": [
    "The optimal solution uses the binary search\n",
    "\n",
    "* Time complexity\n",
    "  * $\\Omicron(logn)$\n",
    "* Space complexity\n",
    "  * $\\Omicron(1)$ "
   ]
  },
  {
   "cell_type": "code",
   "execution_count": null,
   "metadata": {},
   "outputs": [],
   "source": [
    "def minimum(arr):\n",
    "    left = 0                # left starts at the 1st element\n",
    "    right = len(arr)-1      # and right starts at the last element\n",
    "    if arr[right] > arr[left]: # When the last element is greater than the 1st element\n",
    "        return arr[left]    # so the min is the first element\n",
    "    while left < right:     # The loop gets repeated until left meets right\n",
    "        mid = (left + right) // 2\n",
    "        # We start checking the 4 cases that applies to this problem\n",
    "        if arr[mid+1] < arr[mid]:\n",
    "            return arr[mid+1]\n",
    "        elif arr[mid] < arr[mid-1]:\n",
    "            return arr[mid]\n",
    "        elif arr[mid] > arr[right]:\n",
    "            left = mid+1    # in this case the minimum is in the right half\n",
    "        else:\n",
    "            right = mid-1   # in this case the minimum is in the left half\n",
    "    return arr[left]    # left = right"
   ]
  },
  {
   "cell_type": "markdown",
   "metadata": {},
   "source": [
    "* Time complexity\n",
    "  * $\\Omicron(logn)$\n",
    "* Space complexity\n",
    "  * $\\Omicron(1)$ "
   ]
  },
  {
   "cell_type": "code",
   "execution_count": null,
   "metadata": {},
   "outputs": [],
   "source": [
    "def minimumRec(arr, left, right):\n",
    "    if left >= right or arr[right] > arr[left]:\n",
    "        return arr[left]\n",
    "    mid = (left + right) // 2\n",
    "    if arr[mid+1] < arr[mid]:\n",
    "        return arr[mid+1]\n",
    "    elif arr[mid] < arr[mid-1]:\n",
    "        return arr[mid]\n",
    "    elif arr[mid] > arr[right]:\n",
    "        return minimumRec(arr, mid+1, right)\n",
    "    else:\n",
    "        return minimumRec(arr, left, mid-1)\n",
    "\n",
    "def minimum(arr):\n",
    "    return minimumRec(arr, 0, len(arr)-1)"
   ]
  }
 ],
 "metadata": {
  "language_info": {
   "name": "python"
  },
  "orig_nbformat": 4
 },
 "nbformat": 4,
 "nbformat_minor": 2
}
