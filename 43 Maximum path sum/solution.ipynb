{
 "cells": [
  {
   "cell_type": "markdown",
   "metadata": {},
   "source": [
    "### <u>Problem statement</u>: Maximum path sum\n",
    " Given an non-empty binary tree `root`, create a function that returns the maximum path sum. Note that for this problem, a path goes from a node to another one by traversing edges between them, and that the path must have at least one node, and it does not have to pass to the root."
   ]
  },
  {
   "cell_type": "markdown",
   "metadata": {},
   "source": [
    "Here $3$ things we need to understand:\n",
    "1. How is a path constructed\n",
    "2. The difference between the max sum when we come from the top and when we don't\n",
    "3. The global max sum"
   ]
  },
  {
   "cell_type": "markdown",
   "metadata": {},
   "source": [
    "* Time complexity\n",
    "  * $\\Omicron(n)$\n",
    "* Space complexity\n",
    "  * $\\Omicron(h)$"
   ]
  },
  {
   "cell_type": "code",
   "execution_count": null,
   "metadata": {},
   "outputs": [],
   "source": [
    "def dfs(root, globalMaxSum):\n",
    "    # Base case\n",
    "    if root is None:\n",
    "        return float(\"-inf\")\n",
    "    else:\n",
    "        # We need the max path when we go to the right or left\n",
    "        left = dfs(root.left, globalMaxSum)\n",
    "        right = dfs(root.right, globalMaxSum)\n",
    "        # We have 2 types of max sum, when we come from top and when we don't\n",
    "        # in this case we have 3 possibilities\n",
    "        maxFromTop = max(root.data, root.data + left, root.data + right)\n",
    "        # But when we don't come from the top we have 4 possibilities\n",
    "        # maxFromTop is the max from the 3 possibilities, we just add the 4th\n",
    "        maxNoTop = max(maxFromTop, root.data + left + right)\n",
    "        \n",
    "        globalMaxSum[0] = max(globalMaxSum[0], maxNoTop)\n",
    "        return maxFromTop\n",
    "\n",
    "def maxPathSum(root):\n",
    "    globalMaxSum = [float(\"-inf\")]\n",
    "    dfs(root, globalMaxSum)\n",
    "    return globalMaxSum[0]"
   ]
  }
 ],
 "metadata": {
  "language_info": {
   "name": "python"
  },
  "orig_nbformat": 4
 },
 "nbformat": 4,
 "nbformat_minor": 2
}
