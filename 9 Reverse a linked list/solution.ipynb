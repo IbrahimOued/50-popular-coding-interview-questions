{
 "cells": [
  {
   "cell_type": "markdown",
   "metadata": {},
   "source": [
    "### <u>Problem statement</u>: Reverse a linked list\n",
    "Given a linked list of integers list, create a function that reverse it without using an additional data structure."
   ]
  },
  {
   "cell_type": "markdown",
   "metadata": {},
   "source": [
    "* Time complexity\n",
    "  * $\\Omicron(n^2)$\n",
    "* Space complexity\n",
    "  * $\\Omicron(1)$"
   ]
  },
  {
   "cell_type": "code",
   "execution_count": null,
   "metadata": {},
   "outputs": [],
   "source": [
    "def reverseList(llist):\n",
    "    length = 0\n",
    "    temp = llist.head\n",
    "    while temp:\n",
    "        length += 1\n",
    "        temp = temp.next\n",
    "    left = llist.head\n",
    "    for i in range(length//2):\n",
    "        right = list.head\n",
    "        for j in range(length-i-1):\n",
    "            right = right.next\n",
    "        left.data, right.data = right.data, left.data\n",
    "        left = left.next"
   ]
  },
  {
   "cell_type": "markdown",
   "metadata": {},
   "source": [
    "* Time complexity\n",
    "  * $\\Omicron(n)$\n",
    "* Space complexity\n",
    "  * $\\Omicron(1)$"
   ]
  },
  {
   "cell_type": "code",
   "execution_count": null,
   "metadata": {},
   "outputs": [],
   "source": [
    "def reverseList(llist):\n",
    "    previous = None\n",
    "    current = llist.head\n",
    "    while current is not None:\n",
    "        next = current.next\n",
    "        current.next = previous\n",
    "        previous = current\n",
    "        current = next\n",
    "    return previous"
   ]
  },
  {
   "cell_type": "markdown",
   "metadata": {},
   "source": [
    "Recursive solution\n",
    "* Time complexity\n",
    "  * $\\Omicron(n)$\n",
    "* Space complexity\n",
    "  * $\\Omicron(n)$"
   ]
  },
  {
   "cell_type": "code",
   "execution_count": null,
   "metadata": {},
   "outputs": [],
   "source": [
    "def reverseNodes(node):\n",
    "    # If head is empty or has reached the list end\n",
    "    if node is None or node.next is None:\n",
    "        return node\n",
    "    reversed = reverseNodes(node.next)\n",
    "    # Put first element at the end\n",
    "    node.next.next = node\n",
    "    node.next = None\n",
    "    return reversed\n",
    "\n",
    "def reverseList(llist):\n",
    "    llist.head = reverseNodes(llist.head)"
   ]
  }
 ],
 "metadata": {
  "language_info": {
   "name": "python"
  },
  "orig_nbformat": 4
 },
 "nbformat": 4,
 "nbformat_minor": 2
}
