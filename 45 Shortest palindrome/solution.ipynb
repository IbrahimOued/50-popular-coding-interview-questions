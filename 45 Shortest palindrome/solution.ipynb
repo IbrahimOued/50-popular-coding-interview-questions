{
 "cells": [
  {
   "cell_type": "markdown",
   "metadata": {},
   "source": [
    "### <u>Problem statement</u>: Shortest palindrome\n",
    "\n",
    "Given a string `str`, create a function that returns the shortest palindrome that we can get by adding characters in front of `str`. Note that a palindrome is a string that can be read in the same way from the left and from the right.\n",
    "\n",
    "We have to look for the longest palindromic prefix, then we take the characters after it we reverse them and we put it in front of it. The goal is to find the mirror lenght."
   ]
  },
  {
   "cell_type": "markdown",
   "metadata": {},
   "source": [
    "* Time complexity\n",
    "  * $\\Omicron(n^2)$\n",
    "* Space complexity\n",
    "  * $\\Omicron(n)$"
   ]
  },
  {
   "cell_type": "code",
   "execution_count": null,
   "metadata": {},
   "outputs": [],
   "source": [
    "def shortestPalindrome(str):\n",
    "    mirrorLength = 0\n",
    "    for i in range(len(str)+1):\n",
    "        if str[:i] == str[:i][::-1]:\n",
    "            mirrorLength = i\n",
    "    return str[mirrorLength:][::-1] + str"
   ]
  },
  {
   "cell_type": "markdown",
   "metadata": {},
   "source": [
    "Let's find another solution to reduce the time complexity"
   ]
  },
  {
   "cell_type": "markdown",
   "metadata": {},
   "source": [
    "* Time complexity\n",
    "  * $\\Omicron(n)$\n",
    "* Space complexity\n",
    "  * $\\Omicron(1)$"
   ]
  },
  {
   "cell_type": "code",
   "execution_count": null,
   "metadata": {},
   "outputs": [],
   "source": [
    "def getLPSArray(str):\n",
    "    lpsArr = [0] * len(str)\n",
    "    length = 0\n",
    "    i = 1\n",
    "    while i < len(str):\n",
    "        if str[i] == str[length]:\n",
    "            length += 1\n",
    "            lpsArr[i] = length\n",
    "            i += 1\n",
    "        elif length > 0:\n",
    "            length = lpsArr[length-1]\n",
    "        else:\n",
    "            lpsArr[i] = 0\n",
    "            i += 1\n",
    "    return lpsArr\n",
    "\n",
    "def shortestPalindrome(str):\n",
    "    concatenation = str+\"#\"+str[::-1]\n",
    "    lspArr = getLPSArray(concatenation)\n",
    "    mirrorLength = lspArr[-1]\n",
    "    return str[mirrorLength:][::-1] + str"
   ]
  }
 ],
 "metadata": {
  "language_info": {
   "name": "python"
  },
  "orig_nbformat": 4
 },
 "nbformat": 4,
 "nbformat_minor": 2
}
