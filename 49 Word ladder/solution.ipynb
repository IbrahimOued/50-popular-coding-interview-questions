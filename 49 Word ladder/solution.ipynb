{
 "cells": [
  {
   "cell_type": "markdown",
   "metadata": {},
   "source": [
    "### <u>Problem statement</u>: Word ladder\n",
    "\n",
    "Given two words `beginWord` and `endWord`, and a list of words `wordList`, create a function that returns the lenght of the shortest transformation sequence from `beginWord` to `endWord`.\n",
    "* Only one letter can be changed at a time.\n",
    "* Each intermediate word in the sequence must be in the `wordList`\n",
    "* The function returns $0$ if there is no possible transformation sequence.\n",
    "* All words have the same length.\n",
    "* All words contain lowercase alphabetic characters\n",
    "* There are no duplicates in the `wordList`.\n",
    "* `beginWord` and `endWord` are non-empty, and they are different.\n",
    "\n",
    "```bash\n",
    "beginWord = \"hit\"\n",
    "endWord   = \"cog\"\n",
    "wordList  = [\"hot\", \"dot\", \"dog\", \"lot\", \"log\", \"cog\"]\n",
    "```\n",
    "sequence: \"hit $\\to$ \"hot\" $\\to$ \"dot\" $\\to$ dog $\\to$ \"cog\" = $5$\n",
    "\n",
    "In this problem, a transformation consists of changing one letter and the result must be in the wordlist. \n",
    "\n",
    "The idea is to represent them as a graph where **each vertex represents a word** and **edges represent possible transformation**. Concretely we won't build the graph itself we will basically make the adjacency list"
   ]
  },
  {
   "cell_type": "markdown",
   "metadata": {},
   "source": [
    "* Time complexity\n",
    "  * $\\Omicron(mn^2)$\n",
    "* Space complexity\n",
    "  * $\\Omicron(mn^2)$"
   ]
  },
  {
   "cell_type": "code",
   "execution_count": null,
   "metadata": {},
   "outputs": [],
   "source": [
    "# Small function to calculate the difference between 2 words\n",
    "def difference(word1, word2):\n",
    "    counter = 0\n",
    "    for i in range(len(word1)):\n",
    "        if word1[i] != word2[i]:\n",
    "            counter+1\n",
    "    return counter\n",
    "\n",
    "# the code of our solution will contain 2 parts\n",
    "# 1st part -> we create the adjacency list of the graph\n",
    "# 2nd part -> Traverse the graph in BFS to calculate the distance\n",
    "#             between begin word and end word\n",
    "\n",
    "def transformationSequenceLength(beginWord, endWord, wordList):\n",
    "    # 1st part -> we create the adjacency list of the graph\n",
    "    if len(wordList) == 0 or endWord not in wordList:\n",
    "        return 0\n",
    "    adjList = {}\n",
    "    for word in wordList:\n",
    "        adjList[word] = set()\n",
    "    for i in range(len(wordList)):\n",
    "        for j in range(i+1, len(wordList)):\n",
    "            if(difference(wordList[i], wordList[j])):\n",
    "                adjList[wordList[i]].add(wordList[j]) # undirected graph, so we have to\n",
    "                adjList[wordList[j]].add(wordList[i]) # insert both\n",
    "    # 2nd part Traverse the graph in BFS to calculate the distance between begin word and end word\n",
    "    visited = set()\n",
    "    queue = []\n",
    "    i = 0\n",
    "    for word in wordList:\n",
    "        if difference(beginWord, word) == 1:\n",
    "            queue.append([word, 1])\n",
    "            visited.add(word)\n",
    "    while i < len(queue):\n",
    "        word = queue[i][0]\n",
    "        level = queue[i][1]\n",
    "        i += 1\n",
    "        if word == endWord:\n",
    "            return level+1\n",
    "        else:\n",
    "            for transformation in adjList[word]:\n",
    "                if transformation not in visited:\n",
    "                    queue.append([transformation, level+1])\n",
    "                    visited.add(transformation)\n",
    "    return 0"
   ]
  },
  {
   "cell_type": "markdown",
   "metadata": {},
   "source": [
    "> What we usually do before starting BFS is to put the root in it, here beginWord. However, beginWord is not in the graph that's why we have to manually search for possible transformation for beginWord and enqueue them in the queue\n",
    "\n",
    "> Here we want to get the transformation sequence length, not just if it exists, so we have to keep track of the level of each vertex to know the distance between the actual vertex an beginWord, this is why when enqueuing we will always put level of the actual vertex `vertex+1`"
   ]
  },
  {
   "cell_type": "markdown",
   "metadata": {},
   "source": [
    "Let's see another solution:\n",
    "\n",
    "We will try to find a way to get rid of the $n^2$ time complexity. The main idea of this second solution is to generate all possible forms of our words and put them in a hashmap where the key is the form and the value is an array containing all words that match that form. What's a form?\n",
    "\n",
    "For example : **\"hot\" = {\"\\*ot\", \"h\\*t\", \"ho\\*\"}** so the form **\"\\*ot\": {\"hot\", \"dot\", \"lot\"}**"
   ]
  },
  {
   "cell_type": "markdown",
   "metadata": {},
   "source": [
    "* Time complexity\n",
    "  * $\\Omicron(nm^2)$\n",
    "* Space complexity\n",
    "  * $\\Omicron(nm^2)$"
   ]
  },
  {
   "cell_type": "code",
   "execution_count": null,
   "metadata": {},
   "outputs": [],
   "source": [
    "def transformationSequenceLength(beginWord, endWord, wordList):\n",
    "    # 1st part -> we create the forms hashmap\n",
    "    if len(wordList) == 0 or endWord not in wordList:\n",
    "        return 0\n",
    "    lenWord = len(wordList[0])\n",
    "    forms = {} # forms hashmap\n",
    "    for word in wordList:\n",
    "        for i in range(lenWord):\n",
    "            form = word[:i] + '*' + word[i+1:]\n",
    "            if forms.get(form) is None:\n",
    "                forms[form] = []\n",
    "            forms[form].append(word)\n",
    "\n",
    "\n",
    "    # 2nd part Traverse the graph in BFS to calculate the distance between begin word and end word\n",
    "    visited = set()\n",
    "    queue = [[beginWord, 0]]\n",
    "    i = 0\n",
    "    while i < len(queue):\n",
    "        word = queue[i][0]\n",
    "        level = queue[i][1]\n",
    "        i += 1\n",
    "        if word == endWord:\n",
    "            return level+1\n",
    "        else:\n",
    "            for j in range(lenWord):\n",
    "                form = word[:j] + '*' + word[j+1:]\n",
    "                if forms.get(form) is not None:\n",
    "                    for transformation in forms[form]:\n",
    "                        if transformation not in visited:\n",
    "                            queue.append([transformation, level+1])\n",
    "                            visited.add(transformation)\n",
    "    return 0\n",
    "    "
   ]
  },
  {
   "cell_type": "markdown",
   "metadata": {},
   "source": [
    "In this problem none of the solutions is the best, it depend of the problem:\n",
    "\n",
    "if $n > m \\Rarr nm^2 < mn^2$\\\n",
    "if $m > n \\Rarr mn^2 > nm^2$\n",
    "\n",
    "$n \\to \\text{length of wordList}$\\\n",
    "$m \\to \\text{length of one word}$"
   ]
  }
 ],
 "metadata": {
  "language_info": {
   "name": "python"
  },
  "orig_nbformat": 4
 },
 "nbformat": 4,
 "nbformat_minor": 2
}
