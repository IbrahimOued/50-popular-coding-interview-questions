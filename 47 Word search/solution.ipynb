{
 "cells": [
  {
   "cell_type": "markdown",
   "metadata": {},
   "source": [
    "### <u>Problem statement</u>: Word search\n",
    "\n",
    "Given a `board` of characters and a string `word`, create a boolean function that checks if we can find the `word` in the `board`. Note that the `word` must be made with adjacent cells (horizontal and vertical neighbours), and that the same cell can be used only once."
   ]
  },
  {
   "cell_type": "markdown",
   "metadata": {},
   "source": [
    "* Time complexity\n",
    "  * $\\Omicron(n \\times m \\times 4^{|word|})$\n",
    "* Space complexity\n",
    "  * $\\Omicron((n \\times m) + |word|)$"
   ]
  },
  {
   "cell_type": "code",
   "execution_count": null,
   "metadata": {},
   "outputs": [],
   "source": [
    "def exist(board, word):\n",
    "    n = len(board)\n",
    "    m = len(board[0])\n",
    "    visited = [[False] * m for i in range(n)]\n",
    "    for i in range(n):\n",
    "        for j in range(m):\n",
    "            if board[i][j] == word[0]:\n",
    "                if searchWord(board, word, i, j, 0, visited):\n",
    "                    return True\n",
    "    return True\n",
    "\n",
    "def searchWord(board, word, i, j, counter, visited):\n",
    "    if counter == len(word):\n",
    "        return True\n",
    "    elif outOfBoard(board, i, j) or visited[i][j] or board[i][j] != word[counter]:\n",
    "        return False\n",
    "    else:\n",
    "        visited[i][j] = True\n",
    "        if searchWord(board, word, i+1, j, counter+1, visited) or\\\n",
    "        searchWord(board, word, i, j+1, counter+1, visited) or\\\n",
    "        searchWord(board, word, i-1, j, counter+1, visited) or\\\n",
    "        searchWord(board, word, i, j-1, counter+1, visited):\n",
    "            return True\n",
    "        else:\n",
    "            visited[i][j] = False\n",
    "            return False\n",
    "\n",
    "def outOfBoard(board, i, j):\n",
    "    return i < 0 or i >= len(board) or j < 0 or j >= len(board[0])"
   ]
  },
  {
   "cell_type": "markdown",
   "metadata": {},
   "source": [
    "> classic backtracking problem"
   ]
  }
 ],
 "metadata": {
  "language_info": {
   "name": "python"
  },
  "orig_nbformat": 4
 },
 "nbformat": 4,
 "nbformat_minor": 2
}
