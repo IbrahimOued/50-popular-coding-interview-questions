{
 "cells": [
  {
   "cell_type": "markdown",
   "metadata": {},
   "source": [
    "### <u>Problem statement</u>: Balanced binary tree\n",
    "Given a binary tree of integers `root`, create a boolean function that checks if it's a balanced binary tree. A binary tree is considered balanced if its left and right subtree are balanced, and the difference between their heights is at most $1$."
   ]
  },
  {
   "cell_type": "code",
   "execution_count": 20,
   "metadata": {},
   "outputs": [],
   "source": [
    "class BTreeNode():\n",
    "    def __init__(self, data, left=None, right=None) -> None:\n",
    "        self.data = data\n",
    "        self.left = left\n",
    "        self.right = right\n",
    "\n",
    "n1 = BTreeNode(\"N1\")\n",
    "n2 = BTreeNode(\"N2\")\n",
    "n3 = BTreeNode(\"N3\")\n",
    "n4 = BTreeNode(\"N4\")\n",
    "n5 = BTreeNode(\"N5\")\n",
    "n6 = BTreeNode(\"N6\")\n",
    "\n",
    "# ==================\n",
    "n7 = BTreeNode(\"N7\")\n",
    "n8 = BTreeNode(\"N8\")\n",
    "\n",
    "n1.left = n2\n",
    "n1.right = n3\n",
    "n2.left = n4\n",
    "n2.right = n5\n",
    "n3.left = n6\n",
    "\n",
    "# ==================\n",
    "n6.right = n7\n",
    "n7.right = n8"
   ]
  },
  {
   "cell_type": "markdown",
   "metadata": {},
   "source": [
    "The brute force solution\n",
    "\n",
    "* Time complexity\n",
    "  * $\\Omicron(n^2)$\n",
    "* Space complexity\n",
    "  * $\\Omicron(h)$"
   ]
  },
  {
   "cell_type": "code",
   "execution_count": 21,
   "metadata": {},
   "outputs": [],
   "source": [
    "def height(root):\n",
    "    if root is None:\n",
    "        return 0\n",
    "    else:\n",
    "        return 1 + max(height(root.left), root.right)\n",
    "\n",
    "def isBalanced(root):\n",
    "    if root is None:\n",
    "        return True\n",
    "    left_height = height(root.left)\n",
    "    right_height = height(root.right)\n",
    "    return isBalanced(root.left) and isBalanced(root.right) and abs(left_height-right_height) <= 1"
   ]
  },
  {
   "cell_type": "markdown",
   "metadata": {},
   "source": [
    "The optimal solution\n",
    "\n",
    "* Time complexity\n",
    "  * $\\Omicron(n)$\n",
    "* Space complexity\n",
    "  * $\\Omicron(h)$"
   ]
  },
  {
   "cell_type": "code",
   "execution_count": 22,
   "metadata": {},
   "outputs": [],
   "source": [
    "def isBalanced(root, height=[0]):\n",
    "    if root is None:\n",
    "        return True\n",
    "    left_height = [0]\n",
    "    right_height = [0]\n",
    "    is_left_balanced = isBalanced(root.left, left_height)\n",
    "    is_right_balanced = isBalanced(root.right, right_height)\n",
    "    height[0] = 1 + max(left_height[0], right_height[0])\n",
    "    return is_left_balanced and is_right_balanced and abs(left_height[0]-right_height[0]) <= 1"
   ]
  },
  {
   "cell_type": "code",
   "execution_count": 23,
   "metadata": {},
   "outputs": [
    {
     "data": {
      "text/plain": [
       "False"
      ]
     },
     "execution_count": 23,
     "metadata": {},
     "output_type": "execute_result"
    }
   ],
   "source": [
    "isBalanced(n1)"
   ]
  }
 ],
 "metadata": {
  "kernelspec": {
   "display_name": "Python 3.10.4 ('pytorch')",
   "language": "python",
   "name": "python3"
  },
  "language_info": {
   "codemirror_mode": {
    "name": "ipython",
    "version": 3
   },
   "file_extension": ".py",
   "mimetype": "text/x-python",
   "name": "python",
   "nbconvert_exporter": "python",
   "pygments_lexer": "ipython3",
   "version": "3.10.4"
  },
  "orig_nbformat": 4,
  "vscode": {
   "interpreter": {
    "hash": "580318c0c86e0542a7f2f9882bbbc393e6c88c07c2a75daeff3d2ea36de686a2"
   }
  }
 },
 "nbformat": 4,
 "nbformat_minor": 2
}
