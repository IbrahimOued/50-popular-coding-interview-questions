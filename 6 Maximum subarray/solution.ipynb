{
 "cells": [
  {
   "cell_type": "markdown",
   "metadata": {},
   "source": [
    "### <u>Problem statement</u>: Maximum subarray\n",
    "Given an array of integers `arr`, create a function that returns the sum of the subarray that has the greatest sum. And we don't consider the empry array as a subarray."
   ]
  },
  {
   "cell_type": "markdown",
   "metadata": {},
   "source": [
    "Brute force solution\n",
    "\n",
    "* Time complexity\n",
    "  * $\\Omicron(n^3)$\n",
    "* Space complexity\n",
    "  * $\\Omicron(1)$"
   ]
  },
  {
   "cell_type": "code",
   "execution_count": 13,
   "metadata": {},
   "outputs": [
    {
     "data": {
      "text/plain": [
       "6"
      ]
     },
     "execution_count": 13,
     "metadata": {},
     "output_type": "execute_result"
    }
   ],
   "source": [
    "def maxSubarray(arr):\n",
    "    maxSum = float(\"-inf\")\n",
    "    for i in range(len(arr)):\n",
    "        for j in range(i, len(arr)):\n",
    "            actualSum = 0\n",
    "            for k in range(i, j):\n",
    "                actualSum += arr[k]\n",
    "            maxSum = max(maxSum, actualSum)\n",
    "    return maxSum\n",
    "\n",
    "arr = [1, 2, 3, 4]\n",
    "\n",
    "maxSubarray(arr)"
   ]
  },
  {
   "cell_type": "markdown",
   "metadata": {},
   "source": [
    "* Time complexity\n",
    "  * $\\Omicron(n^3)$\n",
    "* Space complexity\n",
    "  * $\\Omicron(1)$"
   ]
  },
  {
   "cell_type": "code",
   "execution_count": 14,
   "metadata": {},
   "outputs": [
    {
     "data": {
      "text/plain": [
       "10"
      ]
     },
     "execution_count": 14,
     "metadata": {},
     "output_type": "execute_result"
    }
   ],
   "source": [
    "def maxSubarray(arr):\n",
    "    maxSum = float(\"-inf\")\n",
    "    for i in range(len(arr)):\n",
    "        cumulativeSum = 0\n",
    "        for j in range(i, len(arr)):\n",
    "            cumulativeSum += arr[j]\n",
    "            maxSum = max(maxSum, cumulativeSum)\n",
    "    return maxSum\n",
    "\n",
    "arr = [1, 2, 3, 4]\n",
    "\n",
    "maxSubarray(arr)"
   ]
  },
  {
   "cell_type": "markdown",
   "metadata": {},
   "source": [
    "* Time complexity\n",
    "  * $\\Omicron(n)$\n",
    "* Space complexity\n",
    "  * $\\Omicron(1)$"
   ]
  },
  {
   "cell_type": "code",
   "execution_count": 15,
   "metadata": {},
   "outputs": [
    {
     "data": {
      "text/plain": [
       "10"
      ]
     },
     "execution_count": 15,
     "metadata": {},
     "output_type": "execute_result"
    }
   ],
   "source": [
    "def maxSubarray(arr):\n",
    "    globalSum = float(\"-inf\")\n",
    "    localSum = 0\n",
    "    for element in arr:\n",
    "        localSum = max(element, localSum+element)\n",
    "        globalSum = max(globalSum, localSum)\n",
    "    return globalSum\n",
    "    \n",
    "arr = [1, 2, 3, 4]\n",
    "\n",
    "maxSubarray(arr)"
   ]
  }
 ],
 "metadata": {
  "kernelspec": {
   "display_name": "Python 3.10.4 ('pytorch')",
   "language": "python",
   "name": "python3"
  },
  "language_info": {
   "codemirror_mode": {
    "name": "ipython",
    "version": 3
   },
   "file_extension": ".py",
   "mimetype": "text/x-python",
   "name": "python",
   "nbconvert_exporter": "python",
   "pygments_lexer": "ipython3",
   "version": "3.10.4"
  },
  "orig_nbformat": 4,
  "vscode": {
   "interpreter": {
    "hash": "580318c0c86e0542a7f2f9882bbbc393e6c88c07c2a75daeff3d2ea36de686a2"
   }
  }
 },
 "nbformat": 4,
 "nbformat_minor": 2
}
