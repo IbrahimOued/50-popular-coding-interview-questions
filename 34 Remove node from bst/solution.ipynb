{
 "cells": [
  {
   "cell_type": "markdown",
   "metadata": {},
   "source": [
    "### <u>Problem statement</u>: Remove a node from a BST\n",
    "\n",
    "Given a BST `root`, and an integer `num`, create a function that deletes the node that contains `num` then returns `root`."
   ]
  },
  {
   "cell_type": "markdown",
   "metadata": {},
   "source": [
    "* Time complexity\n",
    "  * $\\Omicron(h)$\n",
    "* Space complexity\n",
    "  * $\\Omicron(h)$"
   ]
  },
  {
   "cell_type": "code",
   "execution_count": null,
   "metadata": {},
   "outputs": [],
   "source": [
    "def deleteNodeBst(root, num):\n",
    "    if root is None:\n",
    "        return None\n",
    "    elif num < root.data:\n",
    "        root.left = deleteNodeBst(root.left, num)\n",
    "    elif num > root.data\n",
    "        root.right = deleteNodeBst(root.right, num)\n",
    "    else:\n",
    "        if root.left is None:\n",
    "            return root.right\n",
    "        elif root.right is None:\n",
    "            return root.left\n",
    "        else:\n",
    "            successor = getMinNode(root.right)\n",
    "            root.data = successor.data\n",
    "            root.right = deleteNodeBst(root.right, successor.data)\n",
    "    return root\n",
    "\n",
    "def getMinNode():\n",
    "    while root.left is not None:\n",
    "        root = root.left\n",
    "    return root"
   ]
  }
 ],
 "metadata": {
  "language_info": {
   "name": "python"
  },
  "orig_nbformat": 4
 },
 "nbformat": 4,
 "nbformat_minor": 2
}
