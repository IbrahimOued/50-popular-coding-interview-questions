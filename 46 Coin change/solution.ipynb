{
 "cells": [
  {
   "cell_type": "markdown",
   "metadata": {},
   "source": [
    "### <u>Problem statement</u>: Coin change\n",
    "\n",
    "Given an `amount` of money, and a set of possible `coins`, create a function that returns the minimum number of coins needed to make that amount. Note that if there exists no combination to do so, the function must return $-1$."
   ]
  },
  {
   "cell_type": "markdown",
   "metadata": {},
   "source": [
    "This problem is very similar to the *climb stairs* one. The only difference is how we want the result. In this problem we want the minimum amount of coins."
   ]
  },
  {
   "cell_type": "markdown",
   "metadata": {},
   "source": [
    "The recursive solution"
   ]
  },
  {
   "cell_type": "markdown",
   "metadata": {},
   "source": [
    "* Time complexity\n",
    "  * $\\Omicron(m^n)$\n",
    "* Space complexity\n",
    "  * $\\Omicron(n)$"
   ]
  },
  {
   "cell_type": "code",
   "execution_count": null,
   "metadata": {},
   "outputs": [],
   "source": [
    "def coinChangeRec(amount, coins):\n",
    "    if amount == 0:\n",
    "        return 0\n",
    "    minCoins = float(\"inf\")\n",
    "    for coin in coins:\n",
    "        if (amount-coin) >= 0:\n",
    "            minCoins = min(minCoins, 1+coinChangeRec(amount-coin, coins))\n",
    "    return minCoins\n",
    "\n",
    "def coinChange(amount, coins):\n",
    "    minCoins = coinChangeRec(amount, coins)\n",
    "    return -1 if minCoins == float(\"inf\") else minCoins"
   ]
  },
  {
   "cell_type": "markdown",
   "metadata": {},
   "source": [
    "The dynamic programming solution"
   ]
  },
  {
   "cell_type": "markdown",
   "metadata": {},
   "source": [
    "* Time complexity\n",
    "  * $\\Omicron(nm)$\n",
    "* Space complexity\n",
    "  * $\\Omicron(n)$"
   ]
  },
  {
   "cell_type": "code",
   "execution_count": null,
   "metadata": {},
   "outputs": [],
   "source": [
    "def coinChangeDP(amount, coins):\n",
    "    nbCoinsArr = [float(\"inf\")] * (amount+1)\n",
    "    nbCoinsArr[0] = 0\n",
    "    for i in range(1, amount+1):\n",
    "        minCoins = float(\"inf\")\n",
    "        for coin in coins:\n",
    "            if (1-coin) >= 0:\n",
    "                minCoins = min(minCoins, 1 + nbCoinsArr[i-coin]) # Wrote dp[i-coin] maybe an error\n",
    "        nbCoinsArr[i] = minCoins\n",
    "    return -1 if nbCoinsArr[amount] == float(\"inf\") else nbCoinsArr[amount]\n",
    "\n",
    "amount = 640\n",
    "coins = [1, 5, 10, 50]\n",
    "\n",
    "print(coinChange(amount=amount, coins=coins))"
   ]
  }
 ],
 "metadata": {
  "kernelspec": {
   "display_name": "Python 3.7.13 ('tflow')",
   "language": "python",
   "name": "python3"
  },
  "language_info": {
   "codemirror_mode": {
    "name": "ipython",
    "version": 3
   },
   "file_extension": ".py",
   "mimetype": "text/x-python",
   "name": "python",
   "nbconvert_exporter": "python",
   "pygments_lexer": "ipython3",
   "version": "3.7.13"
  },
  "orig_nbformat": 4,
  "vscode": {
   "interpreter": {
    "hash": "46351c491966987bac499a70b9eb3cfa6654f8548f3e1b556c80bd36edd6baee"
   }
  }
 },
 "nbformat": 4,
 "nbformat_minor": 2
}
