{
 "cells": [
  {
   "cell_type": "markdown",
   "metadata": {},
   "source": [
    "### <u>Problem statement</u>: Get substring index\n",
    "Given two strings `str1` and `str2`, create a function that returns the first index where we can find `str2` in `str1`. If we cannot find `str2` in `str1`, the function must return $-1$\n"
   ]
  },
  {
   "cell_type": "markdown",
   "metadata": {},
   "source": [
    "The brute force solution\n",
    "* Time complexity\n",
    "  * $\\Omicron(nm)$\n",
    "* Space complexity\n",
    "  * $\\Omicron(1)$"
   ]
  },
  {
   "cell_type": "code",
   "execution_count": 11,
   "metadata": {},
   "outputs": [
    {
     "data": {
      "text/plain": [
       "5"
      ]
     },
     "execution_count": 11,
     "metadata": {},
     "output_type": "execute_result"
    }
   ],
   "source": [
    "def getSubstringIndex(str1, str2):\n",
    "    n = len(str1)\n",
    "    m = len(str2)\n",
    "    for i in range(n-m+1):\n",
    "        found = True\n",
    "        for j in range(m):\n",
    "            if str1[i+j] != str2[j]:\n",
    "                found = False\n",
    "                break\n",
    "        if found:\n",
    "            return i\n",
    "    return -1\n",
    "\n",
    "str1 = 'aabbaaabab'\n",
    "str2 = 'aaba'\n",
    "\n",
    "getSubstringIndex(str1, str2)"
   ]
  },
  {
   "cell_type": "markdown",
   "metadata": {},
   "source": [
    "The optimal solution using KMP algorithm\n",
    "* Time complexity\n",
    "  * $\\Omicron(n)$\n",
    "* Space complexity\n",
    "  * $\\Omicron(m)$"
   ]
  },
  {
   "cell_type": "code",
   "execution_count": 13,
   "metadata": {},
   "outputs": [
    {
     "data": {
      "text/plain": [
       "5"
      ]
     },
     "execution_count": 13,
     "metadata": {},
     "output_type": "execute_result"
    }
   ],
   "source": [
    "def getLPSArray(str):\n",
    "    lpsArr = [0] * len(str)\n",
    "    length = 0\n",
    "    i = 1\n",
    "    while i < len(str):\n",
    "        if str[i] == str[length]:\n",
    "            length += 1\n",
    "            lpsArr[i] = length\n",
    "            i += 1\n",
    "        elif length > 0:\n",
    "            length = lpsArr[length-1]\n",
    "        else:\n",
    "            lpsArr[i] = 0\n",
    "            i += 1\n",
    "    return lpsArr\n",
    "\n",
    "def substringIndex(str1, str2):\n",
    "    n = len(str1)\n",
    "    m = len(str2)\n",
    "\n",
    "    if m > n: return -1\n",
    "    if m == n: return 0 if str2 == str1 else -1\n",
    "    if str2 == \"\": return 0\n",
    "    lpsArr = getLPSArray(str2)\n",
    "    j = 0\n",
    "    i = 0\n",
    "    while i < n and j < m:\n",
    "        if str1[i] == str2[j]:\n",
    "            i += 1\n",
    "            j += 1\n",
    "        elif j > 0:\n",
    "            j = lpsArr[j-1]\n",
    "        else:\n",
    "            i += 1\n",
    "\n",
    "    return -1 if j < m else i-j\n",
    "\n",
    "str1 = 'aabbaaabab'\n",
    "str2 = 'aaba'\n",
    "\n",
    "substringIndex(str1, str2)"
   ]
  },
  {
   "cell_type": "code",
   "execution_count": null,
   "metadata": {},
   "outputs": [],
   "source": []
  }
 ],
 "metadata": {
  "kernelspec": {
   "display_name": "Python 3.10.4 ('pytorch')",
   "language": "python",
   "name": "python3"
  },
  "language_info": {
   "codemirror_mode": {
    "name": "ipython",
    "version": 3
   },
   "file_extension": ".py",
   "mimetype": "text/x-python",
   "name": "python",
   "nbconvert_exporter": "python",
   "pygments_lexer": "ipython3",
   "version": "3.10.6"
  },
  "orig_nbformat": 4,
  "vscode": {
   "interpreter": {
    "hash": "580318c0c86e0542a7f2f9882bbbc393e6c88c07c2a75daeff3d2ea36de686a2"
   }
  }
 },
 "nbformat": 4,
 "nbformat_minor": 2
}
