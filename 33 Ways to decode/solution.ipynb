{
 "cells": [
  {
   "cell_type": "markdown",
   "metadata": {},
   "source": [
    "### <u>Problem statement</u>: Ways de decode\n",
    "\n",
    "Given a string `str` made of digits, create a function that returns with how many ways we can decode it, knowing that `1` is decoded as the letter `A`, `2` is decoded as the letter `B`, and so on until `26` that is decoded as the letter `Z`.\n",
    "\n",
    "Here are some examples:\n",
    "```bash\n",
    "input: \"0\"\n",
    "output: 0\n",
    "\n",
    "Result: We have no way to decode it as 0 does\\'t represent any letter\n",
    "\n",
    "input: \"1\"\n",
    "output: 1 (A)\n",
    "\n",
    "Result: We have only 1 way\n",
    "\n",
    "input: \"11\"\n",
    "output: 2\n",
    "\n",
    "Result: We have 2 ways to decode it. As \"AA\" (1, 1) or as \"K\" (11)\n",
    "```"
   ]
  },
  {
   "cell_type": "markdown",
   "metadata": {},
   "source": [
    "* Time complexity\n",
    "  * $\\Omicron(2^n)$\n",
    "* Space complexity\n",
    "  * $\\Omicron(n)$"
   ]
  },
  {
   "cell_type": "code",
   "execution_count": null,
   "metadata": {},
   "outputs": [],
   "source": [
    "def waysToDecode(str, i=0):\n",
    "    n = len(str)\n",
    "    if n == 0 or (i < n and str[i] == \"0\"):\n",
    "        return 0\n",
    "    elif i >= n-1:\n",
    "        return 1\n",
    "    elif \"10\" <= (str[i] + str[i+1]) <= \"26\":\n",
    "        return waysToDecode(str, i+1) + waysToDecode(str, i+2)\n",
    "    else:\n",
    "        return waysToDecode(str, i+1)"
   ]
  },
  {
   "cell_type": "markdown",
   "metadata": {},
   "source": [
    "For the optimal solution we can notice that what is slowing us down is that we are repeating work uselessly. So we will obviously use dynamic programming to get ourselves with a more efficient solution.\n",
    "\n",
    "* Time complexity\n",
    "  * $\\Omicron(n)$\n",
    "* Space complexity\n",
    "  * $\\Omicron(1)$ $\\to$ We avoided using an array, instead we used two variables"
   ]
  },
  {
   "cell_type": "code",
   "execution_count": null,
   "metadata": {},
   "outputs": [],
   "source": [
    "# TODO: To rewatch\n",
    "def waysToDecode(str):\n",
    "    n = len(str)\n",
    "    if n == 0 or str[0] == \"0\":\n",
    "        return 0\n",
    "    beforePrevious = 1\n",
    "    previous = 1\n",
    "    for i in range(1, n):\n",
    "        current = 0\n",
    "        if str[i] != \"0\":\n",
    "            current += previous\n",
    "        if \"10\" <= (str[i-1] + str[i]) <= \"26\":\n",
    "            current += beforePrevious\n",
    "        beforePrevious = previous\n",
    "        previous = current\n",
    "    return previous"
   ]
  }
 ],
 "metadata": {
  "language_info": {
   "name": "python"
  },
  "orig_nbformat": 4
 },
 "nbformat": 4,
 "nbformat_minor": 2
}
