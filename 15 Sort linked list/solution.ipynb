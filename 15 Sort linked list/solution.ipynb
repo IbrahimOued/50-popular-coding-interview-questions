{
 "cells": [
  {
   "cell_type": "markdown",
   "metadata": {},
   "source": [
    "### <u>Problem statement</u>: Sort linked list\n",
    "Given a linked list `llist`, create a function that sorts it in ascending order. Note that the function returns nothing, the list must be sorted in place."
   ]
  },
  {
   "cell_type": "markdown",
   "metadata": {},
   "source": [
    "* Time complexity\n",
    "  * $\\Omicron(n^2)$\n",
    "* Space complexity\n",
    "  * $\\Omicron(1)$"
   ]
  },
  {
   "cell_type": "code",
   "execution_count": null,
   "metadata": {},
   "outputs": [],
   "source": [
    "# Bubble sort on linked ist\n",
    "\n",
    "def bubbleSortLList(llist):\n",
    "    i = llist.head\n",
    "    while i:\n",
    "        j = llist.head\n",
    "        while j.next:\n",
    "            if j.data > j.next.data:\n",
    "                j.data, j.next.data = j.next.data, j.data\n",
    "            j = j.next\n",
    "        i = i.next\n",
    "    # We are following the same process\n",
    "    # as in an array\n",
    "    # i = 0\n",
    "    # while i < len(arr):\n",
    "    #     j = 0\n",
    "    #     while (j+1) < len(arr):\n",
    "    #         if arr[j] > arr[j+1]:\n",
    "    #             arr[j], arr[j+1] = arr[j+1], arr[j]\n",
    "    #         j += 1\n",
    "    #     i += 1"
   ]
  },
  {
   "cell_type": "markdown",
   "metadata": {},
   "source": [
    "* Time complexity\n",
    "  * $\\Omicron(nlogn)$\n",
    "* Space complexity\n",
    "  * $\\Omicron(logn)$"
   ]
  },
  {
   "cell_type": "code",
   "execution_count": null,
   "metadata": {},
   "outputs": [],
   "source": [
    "# Merge sort on linked list\n",
    "class Node:\n",
    "    def __init__(self, data):\n",
    "        self.data = data\n",
    "        self.next: Node = None\n",
    "\n",
    "class LinkedList:\n",
    "    def __init__(self):\n",
    "        self.head: Node = None\n",
    "\n",
    "def mergeSortLList(llist: LinkedList):\n",
    "    if llist.head is None or llist.head.next is None:\n",
    "        return llist\n",
    "    slow, fast = llist.head\n",
    "    while fast.next and fast.next.next:\n",
    "        slow = slow.next\n",
    "        fast = fast.next.next\n",
    "    headRightHalf = slow.next\n",
    "    slow.next = None\n",
    "    llist.head = mergeSortLList(llist.head)\n",
    "    rightHalfLList = LinkedList()\n",
    "    rightHalfLList.head = mergeSortLList(headRightHalf)\n",
    "    return mergeSortedLists(llist, rightHalfLList)\n",
    "\n",
    "def mergeSortedLists(llist1: LinkedList, llist2: LinkedList):\n",
    "    ptr1 = llist1.head\n",
    "    ptr2 = llist2.head\n",
    "    returnedList = LinkedList() # This probably breaks the inplace condition, to check\n",
    "    returnedList.head = None\n",
    "    tail = None\n",
    "    while ptr1 or ptr2:\n",
    "        if ptr1 and ptr2:\n",
    "            if ptr1.data < ptr2.data:\n",
    "                lower = ptr1\n",
    "                ptr1.next\n",
    "            else:\n",
    "                lower = ptr2\n",
    "                ptr2 = ptr2.next\n",
    "        elif ptr1:\n",
    "            lower = ptr1\n",
    "            ptr1 = ptr1.next\n",
    "        else:\n",
    "            lower = ptr2\n",
    "            ptr2 = ptr2.next\n",
    "        if returnedList.head is None:\n",
    "            returnedList.head - lower\n",
    "            tail = lower\n",
    "        else:\n",
    "            tail.next = lower\n",
    "            tail = tail.next\n",
    "    return returnedList\n",
    "\n",
    "def sortList(llist: LinkedList):\n",
    "    llist = mergeSortLList(llist)"
   ]
  }
 ],
 "metadata": {
  "language_info": {
   "name": "python"
  },
  "orig_nbformat": 4
 },
 "nbformat": 4,
 "nbformat_minor": 2
}
