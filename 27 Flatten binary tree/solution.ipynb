{
 "cells": [
  {
   "cell_type": "markdown",
   "metadata": {},
   "source": [
    "### <u>Problem statement</u>: Flatten binary tree\n",
    "Given a binary tree `root`, create a function that flattens it to linked list in-place by following the preorder traversal."
   ]
  },
  {
   "cell_type": "markdown",
   "metadata": {},
   "source": [
    "The main challenge here is to know how to join the result after calling the function on both subtrees. This simple trick helps to solve the majority of BST problems. For example to get the sum.\n",
    "\n",
    "```python\n",
    "def treeSum(root):\n",
    "    if root is None:\n",
    "        return 0\n",
    "    else:\n",
    "        leftSum = treeSum(root.left)\n",
    "        rightSum = treeSum(root.right)\n",
    "        return root.data + leftSum + rightSum\n",
    "```"
   ]
  },
  {
   "cell_type": "markdown",
   "metadata": {},
   "source": [
    "* Time complexity\n",
    "  * $\\Omicron(n)$\n",
    "* Space complexity\n",
    "  * $\\Omicron(h)$ because the maximum call stack is $h$ when we reach the bottom of the tree."
   ]
  },
  {
   "cell_type": "code",
   "execution_count": null,
   "metadata": {},
   "outputs": [],
   "source": [
    "def flattenTree(root):\n",
    "    if root is None:\n",
    "        return\n",
    "    else:\n",
    "        flattenTree(root.left)\n",
    "        flattenTree(root.right)\n",
    "        rightSubtree = root.right # Save the head of the right subtree\n",
    "        root.right = root.left # we set root.right to root.left \n",
    "        root.left = None # root.left to None bc we have no more left subtree\n",
    "        # We start searching for the last node\n",
    "        temp = root\n",
    "        while temp.right is not None:\n",
    "            temp = temp.right\n",
    "        temp.right = rightSubtree\n",
    "        # All happening in-place, nothing to return"
   ]
  }
 ],
 "metadata": {
  "language_info": {
   "name": "python"
  },
  "orig_nbformat": 4
 },
 "nbformat": 4,
 "nbformat_minor": 2
}
