{
 "cells": [
  {
   "cell_type": "markdown",
   "metadata": {},
   "source": [
    "### <u>Problem statement</u>: Smallest number after removing k digits\n",
    "\n",
    "Given a positive integer `k` and string `num` that represents a positive integer, create function that returns as a string, the smallest number that can be made by removing `k` digits from `num`. Note that both input and output don't contain leading zeroes, except for the number `0` itself.\n",
    "\n",
    "For example: Let's take this input : $\"26378491\"$, $k=3$. Let's try to apply a greedy algorithm on it.\n",
    "The result is $\"23491\"$"
   ]
  },
  {
   "cell_type": "markdown",
   "metadata": {},
   "source": [
    "* Time complexity\n",
    "  * $\\Omicron(n)$\n",
    "* Space complexity\n",
    "  * $\\Omicron(n)$"
   ]
  },
  {
   "cell_type": "code",
   "execution_count": null,
   "metadata": {},
   "outputs": [],
   "source": [
    "def smallestAfterRemoving(num, k):\n",
    "    if k == len(num):\n",
    "        return \"0\"\n",
    "    stack = []\n",
    "    for digit in num:\n",
    "        while len(stack) > 0 and digit < stack[-1] and k > 0:\n",
    "            stack.pop()\n",
    "            k -= 1\n",
    "        stack.append(digit)\n",
    "\n",
    "    # SPECIAL_CASE_2 - When k is not equal to 0 after the process meaning that\n",
    "    # we still have digits that we want to remove\n",
    "    # FIX\n",
    "    while k > 0:\n",
    "        stack.pop()\n",
    "        k -= 1\n",
    "    \n",
    "    # SPECIAL_CASE_3 - When we have leading Os, we remove them from our\n",
    "    # output before returning it\n",
    "    stack = stack[::-1]\n",
    "    while len(stack) > 0 and stack[-1] == \"0\":\n",
    "        stack.pop()\n",
    "    stack = stack[::-1]\n",
    "    \n",
    "    # return \"\".join(stack) will work except for 3 special cases\n",
    "    # SPECIAL_CASE_1 - cause we can return \"\" when the stack is empty\n",
    "    # at the end of the process which has no meaning\n",
    "    # FIX\n",
    "    return \"\".join(stack) if len(stack) > 0 else \"0\""
   ]
  }
 ],
 "metadata": {
  "language_info": {
   "name": "python"
  },
  "orig_nbformat": 4
 },
 "nbformat": 4,
 "nbformat_minor": 2
}
