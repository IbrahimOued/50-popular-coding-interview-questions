{
 "cells": [
  {
   "cell_type": "markdown",
   "metadata": {},
   "source": [
    "### <u>Problem statement</u>: Peek finding problem\n",
    "Given a non-empty array of integers `arr`, create a function that returns the index of a peak element. We consider an element as peak if it's greater than or equal to its neighbors, the next and previous element, and the first element have at most one neighbor only. And if there are multiple peaks in `arr`, just return the index of one of them."
   ]
  },
  {
   "cell_type": "markdown",
   "metadata": {},
   "source": [
    "One possible solution\n",
    "* Time complexity\n",
    "  * $\\Omicron(n)$\n",
    "* Space complexity\n",
    "  * $\\Omicron(1)$"
   ]
  },
  {
   "cell_type": "code",
   "execution_count": null,
   "metadata": {},
   "outputs": [],
   "source": [
    "def findPeak(arr):\n",
    "    for i in range(len(arr)):\n",
    "        if(i == 0 or arr[i] > arr[i-1]) and (i == len(arr) - 1 or arr[i] >= arr[i+1]):\n",
    "            return i"
   ]
  },
  {
   "cell_type": "markdown",
   "metadata": {},
   "source": [
    "The optimal solution (using binary search)\n",
    "* Time complexity\n",
    "  * $\\Omicron(logn)$\n",
    "* Space complexity\n",
    "  * $\\Omicron(1)$"
   ]
  },
  {
   "cell_type": "code",
   "execution_count": null,
   "metadata": {},
   "outputs": [],
   "source": [
    "def findPeak(arr):\n",
    "    left = 0\n",
    "    right = len(arr) - 1\n",
    "    while left < right:\n",
    "        mid = (left + right) // 2\n",
    "        if arr[mid] < arr[mid+1]:\n",
    "            left = mid+1\n",
    "        else:\n",
    "            right = mid\n",
    "    return left"
   ]
  },
  {
   "cell_type": "markdown",
   "metadata": {},
   "source": [
    "The optimal solution written recursively"
   ]
  },
  {
   "cell_type": "code",
   "execution_count": null,
   "metadata": {},
   "outputs": [],
   "source": [
    "def findPeakRec(arr, left, right):\n",
    "    if left >= right:\n",
    "        return left\n",
    "    mid = (left + right) // 2\n",
    "    if arr[mid] < arr[mid+1]:\n",
    "        return findPeakRec(arr, mid+1, right)\n",
    "    else:\n",
    "        return findPeakRec(arr, left, mid)\n",
    "\n",
    "def findPeak(arr):\n",
    "    return findPeakRec(arr, 0, len(arr)-1)"
   ]
  }
 ],
 "metadata": {
  "language_info": {
   "name": "python"
  },
  "orig_nbformat": 4
 },
 "nbformat": 4,
 "nbformat_minor": 2
}
