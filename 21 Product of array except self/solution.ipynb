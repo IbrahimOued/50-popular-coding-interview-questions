{
 "cells": [
  {
   "cell_type": "markdown",
   "metadata": {},
   "source": [
    "### <u>Problem statement</u>: Product of array except self\n",
    "Given an array of integers `arr` that has at least 2 elements, create a function that returns an array `output` where `output[i]` represents the product of all elements of `arr` except `arr[i]`, and you are not allowed to use the division operator."
   ]
  },
  {
   "cell_type": "markdown",
   "metadata": {},
   "source": [
    "Brute force solution\n",
    "\n",
    "* Time complexity\n",
    "  * $\\Omicron(n^2)$\n",
    "* Space complexity\n",
    "  * $\\Omicron(n)$"
   ]
  },
  {
   "cell_type": "code",
   "execution_count": null,
   "metadata": {},
   "outputs": [],
   "source": [
    "def productExceptSelf(arr):\n",
    "    n = len(arr)\n",
    "    output = []\n",
    "    for i in range(n):\n",
    "        product = 1\n",
    "        for j in range(n):\n",
    "            if i == j:\n",
    "                continue\n",
    "            else:\n",
    "                product *= arr[j]\n",
    "        output.append(product)\n",
    "    return output"
   ]
  },
  {
   "cell_type": "markdown",
   "metadata": {},
   "source": [
    "Another solution would be to figure out that we are multiplying the left side and right side of an element in the array\n",
    "\n",
    "* Time complexity\n",
    "  * $\\Omicron(n^2)$\n",
    "* Space complexity\n",
    "  * $\\Omicron(n)$"
   ]
  },
  {
   "cell_type": "code",
   "execution_count": null,
   "metadata": {},
   "outputs": [],
   "source": [
    "def productExceptSelf(arr):\n",
    "    n = len(arr)\n",
    "    output = []\n",
    "    for i in range(len(arr)):\n",
    "        productAtLeft = 1\n",
    "        for j in range(i):\n",
    "            productAtRight *= arr[j]\n",
    "        productAtRight = 1\n",
    "        for j in range(n-1, i, -1): # Going backwards\n",
    "            productAtRight *= arr[j]\n",
    "        output.append(productAtLeft * productAtRight)\n",
    "    return output"
   ]
  },
  {
   "cell_type": "markdown",
   "metadata": {},
   "source": [
    "We know that the product of elements until an index $i$ from left is just the product from elements until $i-1$ multiplied by $arr[i-1]$ and we'll use this relationship to get the cumulative product from the left and the cumulative product from the right to avoid always calculating it again.\\\n",
    "Once this is done from left and right we get the output value by multiplying the product from left with the product from right"
   ]
  },
  {
   "cell_type": "markdown",
   "metadata": {},
   "source": [
    "Optimal solution\n",
    "\n",
    "* Time complexity\n",
    "  * $\\Omicron(n)$\n",
    "* Space complexity\n",
    "  * $\\Omicron(n)$"
   ]
  },
  {
   "cell_type": "code",
   "execution_count": null,
   "metadata": {},
   "outputs": [],
   "source": [
    "def productExceptSelf(arr):\n",
    "    n = len(arr)\n",
    "    cumulativeFromLeft = [0] * n\n",
    "    cumulativeFromLeft[0] = 1\n",
    "    for i in range(1, n):\n",
    "        cumulativeFromLeft[i] = cumulativeFromLeft[i-1] * arr[i-1]\n",
    "    cumulativeFromRight = [0] * n\n",
    "    cumulativeFromRight[n-1] = 1\n",
    "    for i in range(n-2, -1, -1):    # n-2 is the before last element, we put the last element to 1\n",
    "        cumulativeFromRight[i] = cumulativeFromRight[i+1] * arr[i+1]\n",
    "    output = [0] * n\n",
    "    for i in range(n):\n",
    "        output[i] = cumulativeFromLeft[i] * cumulativeFromRight[i]\n",
    "    return output"
   ]
  }
 ],
 "metadata": {
  "language_info": {
   "name": "python"
  },
  "orig_nbformat": 4
 },
 "nbformat": 4,
 "nbformat_minor": 2
}
