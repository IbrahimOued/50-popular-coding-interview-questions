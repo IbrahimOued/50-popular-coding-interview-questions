{
 "cells": [
  {
   "cell_type": "markdown",
   "metadata": {},
   "source": [
    "### <u>Problem statement</u>: Longest consecutive sequence\n",
    "Given an array of integers `arr`, create a function that returns the length of the longest consecutive sequence that can be found in `arr`."
   ]
  },
  {
   "cell_type": "markdown",
   "metadata": {},
   "source": [
    "```bash\n",
    "input: arr  = [14, 1, 8, 4, 0, 13, 6, 9, 2, 7]\n",
    "output = 4\n",
    "[14, 1, 8, 4, 0, 13, 6, 9, 2, 7]\n",
    "\n",
    "6-7-8-9\n",
    "```"
   ]
  },
  {
   "cell_type": "markdown",
   "metadata": {},
   "source": [
    "The brute forcer solution to this problem is as follows:"
   ]
  },
  {
   "cell_type": "markdown",
   "metadata": {},
   "source": [
    "* Time complexity\n",
    "  * $\\Omicron(n^3)$\n",
    "* Space complexity\n",
    "  * $\\Omicron(1)$"
   ]
  },
  {
   "cell_type": "code",
   "execution_count": null,
   "metadata": {},
   "outputs": [],
   "source": [
    "def longestConsecutiveSeq(arr):\n",
    "    if len(arr) < 2:\n",
    "        return len(arr)\n",
    "    maxLength = 1\n",
    "    for element in arr:\n",
    "        left = element\n",
    "        while left-1 in arr:\n",
    "            left -= 1\n",
    "        right = element\n",
    "        while right+1 in arr:\n",
    "            right += 1\n",
    "        maxLength = max(maxLength, right-left+1)\n",
    "    return maxLength"
   ]
  },
  {
   "cell_type": "markdown",
   "metadata": {},
   "source": [
    "One solution would be to sort the array"
   ]
  },
  {
   "cell_type": "markdown",
   "metadata": {},
   "source": [
    "* Time complexity\n",
    "  * $\\Omicron(nlogn)$\n",
    "* Space complexity\n",
    "  * $\\Omicron(1)$ $\\to$ if we are allowed to modify the input\n",
    "  * $\\Omicron(n)$ $\\to$ if we aren't allowed to"
   ]
  },
  {
   "cell_type": "code",
   "execution_count": null,
   "metadata": {},
   "outputs": [],
   "source": [
    "def longestConsecutiveSeq(arr):\n",
    "    if len(arr) < 2:\n",
    "        return len(arr)\n",
    "    arr.sort()\n",
    "    maxLength = 1\n",
    "    length = 1\n",
    "    for i in range(1, len(arr)):\n",
    "        if arr[i] == arr[i-1]+1:\n",
    "            length += 1\n",
    "        elif arr[i] == arr[i-1]: # For the case where we have [1, 2, 3, 3, 4], we just pass\n",
    "            pass\n",
    "        else:\n",
    "            length = 1\n",
    "        maxLength = max(maxLength, length)\n",
    "    return maxLength"
   ]
  },
  {
   "cell_type": "markdown",
   "metadata": {},
   "source": [
    "The idea behind the optimal solution is that we should not search all the consecutive sequence uselessly because elements of the sequence all belong to `arr`. We search only when we know that the actual element is the smallest in the sequence. We can know that by checking if the predecessor is in the values.\n",
    "The optimal solution is as follows:"
   ]
  },
  {
   "cell_type": "markdown",
   "metadata": {},
   "source": [
    "* Time complexity\n",
    "  * $\\Omicron(n)$\n",
    "* Space complexity\n",
    "  * $\\Omicron(n)$ $\\to$ because of the set created"
   ]
  },
  {
   "cell_type": "code",
   "execution_count": null,
   "metadata": {},
   "outputs": [],
   "source": [
    "def longestConsecutiveSeq(arr):\n",
    "    if len(arr) < 2:\n",
    "        return len(arr)\n",
    "    maxLength = 1\n",
    "    values = set(arr)\n",
    "    for element in values:\n",
    "        if element-1 in values:\n",
    "            continue\n",
    "    else:\n",
    "        right = element\n",
    "        while right+1 in values: # Here we should keeh in mind that 1 repetition of the while loop is for 1 element of the for, so we avoir the n x n execution\n",
    "            right += 1\n",
    "        maxLength = max(maxLength, right-element+1) # element is the first element of the sequence in this case\n",
    "    return maxLength"
   ]
  }
 ],
 "metadata": {
  "language_info": {
   "name": "python"
  },
  "orig_nbformat": 4
 },
 "nbformat": 4,
 "nbformat_minor": 2
}
