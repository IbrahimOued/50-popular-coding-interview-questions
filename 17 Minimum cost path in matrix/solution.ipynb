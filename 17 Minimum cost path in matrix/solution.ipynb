{
 "cells": [
  {
   "cell_type": "markdown",
   "metadata": {},
   "source": [
    "### <u>Problem statement</u>: Minimum cost path in matrix\n",
    "Given a matrix of integers matrix of size $n \\times m$, where each element $matrix[i][j]$ represents the cost of passing from that cell, create a function that returns the cost of the minimum cost path to go from the top left cell to the right bottom cell, knowing that you can only move to the right or to the bottom."
   ]
  },
  {
   "cell_type": "markdown",
   "metadata": {},
   "source": [
    "The brute force solution\n",
    "\n",
    "* Time complexity\n",
    "  * $\\Omicron(2^{n \\times m})$\n",
    "* Space complexity\n",
    "  * $\\Omicron(n+m)$"
   ]
  },
  {
   "cell_type": "code",
   "execution_count": null,
   "metadata": {},
   "outputs": [],
   "source": [
    "def minimumCost(matrix, i=0, j=0):\n",
    "    n = len(matrix)\n",
    "    m = len(matrix[0])\n",
    "    # The base case where we are at the right bottom cell\n",
    "    if i == n-1 and j == m-1:\n",
    "        return matrix[i][j]\n",
    "    # Here we are at the last row, we don't have cell on the\n",
    "    # bottom, we can only go to the right, so we just return\n",
    "    # matrix[i][j]\n",
    "    elif i == n-1:\n",
    "        return matrix[i][j] + minimumCost(matrix, i, j+1)\n",
    "    # Here the last column, we don't have cell on the right\n",
    "    # we can only go bottom, so we just return matrix[i][j]\n",
    "    elif j == m-1:\n",
    "        return matrix[i][j] + minimumCost(matrix, i+1, j)\n",
    "    # General case, we can go everywhere\n",
    "    else:\n",
    "        return matrix[i][j] + min(minimumCost(matrix, i+1, j), minimumCost(matrix, i, j+1))"
   ]
  },
  {
   "cell_type": "markdown",
   "metadata": {},
   "source": [
    "The optimal solution uses dynamic programming: **We will store the result of each function call <font color=yellow>in a matrix of same size</font> to avoid recomputing it later**\\n\n",
    "\n",
    "A matrix of each element at index $(i, j)$ represent the cost of top right cell to the element of the cell at indices $(i, j)$\n",
    "\n",
    "* Time complexity\n",
    "  * $\\Omicron(n \\times m)$\n",
    "* Space complexity\n",
    "  * $\\Omicron(n \\times m)$"
   ]
  },
  {
   "cell_type": "code",
   "execution_count": null,
   "metadata": {},
   "outputs": [],
   "source": [
    "def minimumCostPath(matrix):\n",
    "    n = len(matrix)\n",
    "    m = len(matrix[0])\n",
    "    # Creation and initialization at 0 of the cost matrix\n",
    "    costs = [[0] * m for i in range(n)]\n",
    "    # The top right cell of the cost matrix is equal to the\n",
    "    # top right cell of the input matrix\n",
    "    costs[0][0] = matrix[0][0]\n",
    "    # Filling of the first row\n",
    "    # starts at 1 and ends at m (the number of columns)\n",
    "    for i in range(1, m):\n",
    "        costs[0][i] = costs[0][i-1] + matrix[0][i] # each element is equal to the previous cell cost (1st row) + actual cell cost\n",
    "    # Fillig of the first column\n",
    "    # starts at 1 and ends at n (the number of rows)\n",
    "    for i in range(1, n):\n",
    "        costs[i][0] = costs[i-1][0] + matrix[i][0] # each element is equal to the previous cell cost (1st column) + actual cell cost\n",
    "    # Fill the remaining starting at 1, 1\n",
    "    for i in range(1, n):   # First for loop for rows\n",
    "        for j in range(1, m):   # Second for columns\n",
    "            costs[i][j] = min(costs[i-1][j], costs[i][j-1]) + matrix[i][j] # Min cost between element at the left and the one at the top + the cost of the actual element\n",
    "    return costs[n-1][m-1] # We just return the bottom of the right bottom element in costs"
   ]
  }
 ],
 "metadata": {
  "kernelspec": {
   "display_name": "Python 3.10.4 ('pytorch')",
   "language": "python",
   "name": "python3"
  },
  "language_info": {
   "codemirror_mode": {
    "name": "ipython",
    "version": 3
   },
   "file_extension": ".py",
   "mimetype": "text/x-python",
   "name": "python",
   "nbconvert_exporter": "python",
   "pygments_lexer": "ipython3",
   "version": "3.10.4"
  },
  "orig_nbformat": 4,
  "vscode": {
   "interpreter": {
    "hash": "580318c0c86e0542a7f2f9882bbbc393e6c88c07c2a75daeff3d2ea36de686a2"
   }
  }
 },
 "nbformat": 4,
 "nbformat_minor": 2
}
