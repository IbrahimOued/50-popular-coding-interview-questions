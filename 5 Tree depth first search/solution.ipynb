{
 "cells": [
  {
   "cell_type": "markdown",
   "metadata": {},
   "source": [
    "### <u>Problem statement</u>: Tree depth first search\n",
    "Given a binary tree of integers root, create 3 functions to print the elements, one for preorder, one for inorder and one for postorder\n",
    "\n",
    "* Time complexity\n",
    "  * $\\Omicron(n)$\n",
    "* Space complexity\n",
    "  * $\\Omicron(h)$"
   ]
  },
  {
   "cell_type": "code",
   "execution_count": null,
   "metadata": {},
   "outputs": [],
   "source": [
    "def preorder(root):\n",
    "    if root:\n",
    "        print(root.data)\n",
    "        preorder(root.left)\n",
    "        preorder(root.right)\n",
    "\n",
    "def inorder(root):\n",
    "    if root:\n",
    "        inorder(root.left)\n",
    "        print(root.data)\n",
    "        inorder(root.right)\n",
    "\n",
    "def postorder(root):\n",
    "    if root:\n",
    "        postorder(root.left)\n",
    "        postorder(root.right)\n",
    "        print(root.data)"
   ]
  }
 ],
 "metadata": {
  "language_info": {
   "name": "python"
  },
  "orig_nbformat": 4
 },
 "nbformat": 4,
 "nbformat_minor": 2
}
