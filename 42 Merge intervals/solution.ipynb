{
 "cells": [
  {
   "cell_type": "markdown",
   "metadata": {},
   "source": [
    "### <u>Problem statement</u>: Merge intervals\n",
    " Given an array of `intervals `, create a function that returns an array where overlapping intervals are merged. Note that intervals are represented by an array of 2 elements, and that 2 intervals are considered as overlapping if their intersection is not empty."
   ]
  },
  {
   "cell_type": "markdown",
   "metadata": {},
   "source": [
    "* Time complexity\n",
    "  * $\\Omicron(nlogn)$\n",
    "* Space complexity\n",
    "  * $\\Omicron(n)$"
   ]
  },
  {
   "cell_type": "code",
   "execution_count": null,
   "metadata": {},
   "outputs": [],
   "source": [
    "def mergeIntervals(intervals):\n",
    "    intervals.sort(key=lambda x: x[0]) # The key is the 1st element of the interval (the starting point)\n",
    "    for i in range(len(intervals)-1):\n",
    "        if intervals[i][1] >= intervals[i+1][0]:\n",
    "            intervals[i+1][0] = intervals[i][0]\n",
    "            intervals[i+1][1] = max(intervals[i][1], intervals[i+1][1])\n",
    "            intervals[i] = []\n",
    "        output = []\n",
    "        for interval in intervals:\n",
    "            if len(interval) != 0:\n",
    "                output.append(interval)\n",
    "        return output"
   ]
  }
 ],
 "metadata": {
  "language_info": {
   "name": "python"
  },
  "orig_nbformat": 4
 },
 "nbformat": 4,
 "nbformat_minor": 2
}
