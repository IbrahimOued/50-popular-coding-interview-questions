{
 "cells": [
  {
   "cell_type": "markdown",
   "metadata": {},
   "source": [
    "### <u>Problem statement</u>: Valid binary search tree\n",
    "Given a binary tree root, create a boolean function that checks if it's a binary search tree."
   ]
  },
  {
   "cell_type": "markdown",
   "metadata": {},
   "source": [
    "* Time complexity\n",
    "  * $\\Omicron(n)$\n",
    "* Space complexity\n",
    "  * $\\Omicron(h)$"
   ]
  },
  {
   "cell_type": "code",
   "execution_count": null,
   "metadata": {},
   "outputs": [],
   "source": [
    "def isBSTValid(root, min_val=float(\"-inf\"), max_val=float(\"+inf\")):\n",
    "    if not root:\n",
    "        return True\n",
    "    elif root.data <= min_val or root.data >= max_val:\n",
    "        return False\n",
    "    else:\n",
    "        return isBSTValid(root.right, root.data, max_val) and isBSTValid(root.left, min_val, root.data)\n",
    "    "
   ]
  },
  {
   "cell_type": "markdown",
   "metadata": {},
   "source": [
    "Here we rely on the the inorder traversal of the BST. By inorder traversing values will be sorted. Another approach will be to traverse the binary tree and check if the values are sorted. "
   ]
  },
  {
   "cell_type": "code",
   "execution_count": null,
   "metadata": {},
   "outputs": [],
   "source": [
    "def isBSTValidRec(root, precedent):\n",
    "    if root is None:\n",
    "        return True\n",
    "    if not isBSTValidRec(root.left, precedent):\n",
    "        return False\n",
    "    if root.data <= precedent[0]:\n",
    "        return False\n",
    "    else:\n",
    "        precedent[0] = root.data\n",
    "    if not isBSTValidRec(root.right, precedent):\n",
    "        return False\n",
    "    return True\n",
    "    \n",
    "def isBstValid2(root):\n",
    "    precedent = [float(\"-inf\")]\n",
    "    return isBSTValidRec(root, precedent)"
   ]
  }
 ],
 "metadata": {
  "language_info": {
   "name": "python"
  },
  "orig_nbformat": 4
 },
 "nbformat": 4,
 "nbformat_minor": 2
}
