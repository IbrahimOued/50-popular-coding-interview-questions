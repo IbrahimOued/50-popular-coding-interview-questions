{
 "cells": [
  {
   "cell_type": "markdown",
   "metadata": {},
   "source": [
    "### <u>Problem statement</u>: Jump to last index\n",
    "Given a non-empty array of non-negative integers `arr`, where each element represents the maximum jump that we can perform from that index, create a boolean function that checks if we can reach the last index starting from the first one."
   ]
  },
  {
   "cell_type": "markdown",
   "metadata": {},
   "source": [
    "Brute force solution\n",
    "\n",
    "* Time complexity\n",
    "  * $\\Omicron(2^n)$\n",
    "* Space complexity\n",
    "  * $\\Omicron(n)$"
   ]
  },
  {
   "cell_type": "code",
   "execution_count": null,
   "metadata": {},
   "outputs": [],
   "source": [
    "def canJump(arr, i=0):\n",
    "    if i == len(arr)-1:\n",
    "        return True\n",
    "    for j in range(1, arr[i]+1):\n",
    "        if canJump(arr, i+1):\n",
    "            return True\n",
    "    return False"
   ]
  },
  {
   "cell_type": "markdown",
   "metadata": {},
   "source": [
    "Wee will use dynamic programming to find another solution\n",
    "* Time complexity\n",
    "  * $\\Omicron(n^2)$\n",
    "* Space complexity\n",
    "  * $\\Omicron(n)$"
   ]
  },
  {
   "cell_type": "code",
   "execution_count": null,
   "metadata": {},
   "outputs": [],
   "source": [
    "def canJump(arr):\n",
    "    n = len(arr)\n",
    "    memo = [False] * n\n",
    "    memo[0] = True\n",
    "    for i in range(n):\n",
    "        if not memo[i]:\n",
    "            return False\n",
    "        elif i+arr[i] >= n-1:\n",
    "            return True\n",
    "        else:\n",
    "            for j in range(1, arr[i]+1):\n",
    "                memo[i+j] = True\n",
    "    return memo[n-1]\n"
   ]
  },
  {
   "cell_type": "markdown",
   "metadata": {},
   "source": [
    "We can solve this problem by using a $maxindex$ variable\n",
    "* Time complexity\n",
    "  * $\\Omicron(n)$\n",
    "* Space complexity\n",
    "  * $\\Omicron(1)$"
   ]
  },
  {
   "cell_type": "code",
   "execution_count": null,
   "metadata": {},
   "outputs": [],
   "source": [
    "def canJump(arr):\n",
    "    n = len(arr)\n",
    "    maxIndex = 0\n",
    "    for i in range(n):\n",
    "        if i > maxIndex:\n",
    "            return False\n",
    "        else:\n",
    "            maxIndex = max(maxIndex, i+arr[i])\n",
    "    return maxIndex >= n-1"
   ]
  },
  {
   "cell_type": "markdown",
   "metadata": {},
   "source": [
    "We can transform this array into a graph and every element points to the elements of its value. We simply have to check if there is a path from the first element to the last element using BFS.\n",
    "\n",
    "* Time complexity\n",
    "  * $\\Omicron(n^2)$\n",
    "* Space complexity\n",
    "  * $\\Omicron(n^2)$\n",
    "\n",
    "This solution is obviously slower than the previous ones, but it purpose is to show how to use graph to solve unrelated graph problems."
   ]
  },
  {
   "cell_type": "code",
   "execution_count": null,
   "metadata": {},
   "outputs": [],
   "source": [
    "def canJump(arr):\n",
    "    adjList = {}\n",
    "    for i in range(len(arr)):\n",
    "        adjList[i] = []\n",
    "        for j in range(1, arr[i]-1):\n",
    "            if (i+j) < len(arr):\n",
    "                adjList[i].append(i+j)\n",
    "\n",
    "    queue = [0]\n",
    "    visited = {0}\n",
    "    while i < len(queue):\n",
    "        vertex = queue[i]\n",
    "        i += 1\n",
    "        if vertex == len(arr)-1:\n",
    "            return True\n",
    "        for neighbor in adjList[vertex]:\n",
    "            queue.append(neighbor)\n",
    "            visited.add(neighbor)\n",
    "    return False"
   ]
  }
 ],
 "metadata": {
  "language_info": {
   "name": "python"
  },
  "orig_nbformat": 4
 },
 "nbformat": 4,
 "nbformat_minor": 2
}
