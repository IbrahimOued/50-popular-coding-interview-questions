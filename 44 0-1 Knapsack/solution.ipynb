{
 "cells": [
  {
   "cell_type": "markdown",
   "metadata": {},
   "source": [
    "### <u>Problem statement</u>: $0-1$ Knapsack\n",
    "Given `values` and `weights` of $n$ items, we want to put them in a knapsack in a way to have the greatest possible value but without exceeding the `maxWeight`, so you are asked to create a function that returns that greatest possible value."
   ]
  },
  {
   "cell_type": "markdown",
   "metadata": {},
   "source": [
    "* Time complexity\n",
    "  * $\\Omicron(2^n)$\n",
    "* Space complexity\n",
    "  * $\\Omicron(h)$"
   ]
  },
  {
   "cell_type": "code",
   "execution_count": null,
   "metadata": {},
   "outputs": [],
   "source": [
    "\n",
    "# In fact maxWeight will represent the remaining\n",
    "# weight that we can take\n",
    "def knapsack(values, weights, maxWeight, currentIndex=0):\n",
    "    # The base case if when we have no more element, and currentIndex is\n",
    "    # equal to the len(values)\n",
    "    if currentIndex == len(values):\n",
    "        return 0\n",
    "    # Can we take the actual element or not. It's known by checking if\n",
    "    # it's greater than the maxWeight\n",
    "    elif weights[currentIndex] > maxWeight:\n",
    "        # if greater we just continue\n",
    "        return knapsack(values, weights, maxWeight, currentIndex+1)\n",
    "    else:\n",
    "        # We can take it, but we are not obliged that's why we call the function twice\n",
    "        # one when we take it and once when we don't and return the max of them\n",
    "        return max(values[currentIndex], knapsack(values, weights, maxWeight-weights[currentIndex], currentIndex+1),\n",
    "            knapsack(values, weights, maxWeight, currentIndex+1))\n",
    "    \n"
   ]
  },
  {
   "cell_type": "markdown",
   "metadata": {},
   "source": [
    "Let's optimize this solution by using **dynamic programming and memoization**. We'll proceed in 4 steps:\n",
    "1. Add a hash(dict) as parameter\n",
    "2. Create the `key`\n",
    "3. Check if the `memoiz[key]` exists\n",
    "4. Modify the general case"
   ]
  },
  {
   "cell_type": "markdown",
   "metadata": {},
   "source": [
    "* Time complexity\n",
    "  * $\\Omicron(n \\times maxWeigth)$\n",
    "* Space complexity\n",
    "  * $\\Omicron(n \\times maxWeigth)$"
   ]
  },
  {
   "cell_type": "code",
   "execution_count": null,
   "metadata": {},
   "outputs": [],
   "source": [
    "\n",
    "def knapsack(values, weights, maxWeight, currentIndex=0, memoiz={}):\n",
    "    key = str(currentIndex) + \"\" + str(maxWeight) # The key is usually the changing parameters, not just currentIndex\n",
    "\n",
    "    if memoiz.get(key) is not None:\n",
    "        return memoiz[key]\n",
    "\n",
    "    elif currentIndex == len(values):\n",
    "        return 0\n",
    "    elif weights[currentIndex] > maxWeight:\n",
    "        output = knapsack(values, weights, maxWeight, currentIndex+1)\n",
    "        memoiz[key] = output\n",
    "        return output\n",
    "    else:\n",
    "        output = max(values[currentIndex], knapsack(values, weights, maxWeight-weights[currentIndex], currentIndex+1),\n",
    "            knapsack(values, weights, maxWeight, currentIndex+1))\n",
    "        memoiz[key] = output\n",
    "        return output "
   ]
  }
 ],
 "metadata": {
  "language_info": {
   "name": "python"
  },
  "orig_nbformat": 4
 },
 "nbformat": 4,
 "nbformat_minor": 2
}
