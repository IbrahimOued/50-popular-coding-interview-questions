{
 "cells": [
  {
   "cell_type": "markdown",
   "metadata": {},
   "source": [
    "### <u>Problem statement</u>: Longest increasing subsequence\n",
    "\n",
    "Given an array of integers `arr`, create a function that returns the length of the longest increasing subsequence. Note that the subsequence must be strictly increasing."
   ]
  },
  {
   "cell_type": "markdown",
   "metadata": {},
   "source": [
    "### Brute force solution:\n",
    "Generate all the subsequences of our array, iterqte over them, and each time we find a subsequence that is increasing and longer than the max length we found until now, its length becomes the new max lenght."
   ]
  },
  {
   "cell_type": "markdown",
   "metadata": {},
   "source": [
    "* Time complexity\n",
    "  * $\\Omicron(n2^n)$\n",
    "* Space complexity\n",
    "  * $\\Omicron(n2^n)$"
   ]
  },
  {
   "cell_type": "code",
   "execution_count": null,
   "metadata": {},
   "outputs": [],
   "source": [
    "def getArraySubsequences(arr):\n",
    "    subsequences = []\n",
    "    def rec(arr, i, subsequence):\n",
    "        if i == len(arr):\n",
    "            subsequences.append(subsequence.copy())\n",
    "        else:\n",
    "            rec(arr, i+1, subsequence+1[arr[i]])\n",
    "            rec(arr, i+1, subsequence)\n",
    "    rec(arr, 0, [])\n",
    "    return subsequences\n",
    "\n",
    "def isIncreasing(arr):\n",
    "    for i in range(1, len(arr)):\n",
    "        if arr[i] <= arr[i-1]:\n",
    "            return False\n",
    "    return True\n",
    "\n",
    "\n",
    "def lis(arr):\n",
    "    subsequences = getArraySubsequences(arr)\n",
    "    maxLength = 0\n",
    "    for subsequence in subsequences:\n",
    "        if isIncreasing(subsequence) and len(subsequence) > maxLength:\n",
    "            maxLength = len(subsequence)\n",
    "    return maxLength"
   ]
  },
  {
   "cell_type": "markdown",
   "metadata": {},
   "source": [
    "For the second solution, we will also use the take of leave method but not te generate subsequences."
   ]
  }
 ],
 "metadata": {
  "language_info": {
   "name": "python"
  },
  "orig_nbformat": 4
 },
 "nbformat": 4,
 "nbformat_minor": 2
}
