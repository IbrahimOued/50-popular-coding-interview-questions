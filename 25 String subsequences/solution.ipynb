{
 "cells": [
  {
   "cell_type": "markdown",
   "metadata": {},
   "source": [
    "### <u>Problem statement</u>: String subsequences\n",
    "Given a string `str`, create a function that returns all its possible subsequences, the order doesn't matter.\n"
   ]
  },
  {
   "cell_type": "markdown",
   "metadata": {},
   "source": [
    "* Time complexity\n",
    "  * $\\Omicron(n2^n)$\n",
    "* Space complexity\n",
    "  * $\\Omicron(n2^n)$"
   ]
  },
  {
   "cell_type": "code",
   "execution_count": 1,
   "metadata": {},
   "outputs": [
    {
     "data": {
      "text/plain": [
       "['abcd',\n",
       " 'abc',\n",
       " 'abd',\n",
       " 'ab',\n",
       " 'acd',\n",
       " 'ac',\n",
       " 'ad',\n",
       " 'a',\n",
       " 'bcd',\n",
       " 'bc',\n",
       " 'bd',\n",
       " 'b',\n",
       " 'cd',\n",
       " 'c',\n",
       " 'd',\n",
       " '']"
      ]
     },
     "execution_count": 1,
     "metadata": {},
     "output_type": "execute_result"
    }
   ],
   "source": [
    "def getSubsequences(str):\n",
    "    subsequences = []\n",
    "    def rec(str, i, subsequence):\n",
    "        if i == len(str):\n",
    "            subsequences.append(subsequence)\n",
    "        else:\n",
    "            rec(str, i+1, subsequence+str[i])\n",
    "            rec(str, i+1, subsequence)\n",
    "    rec(str, 0, \"\")\n",
    "    return subsequences\n",
    "\n",
    "getSubsequences(\"abcd\")"
   ]
  }
 ],
 "metadata": {
  "kernelspec": {
   "display_name": "Python 3.7.13 ('tflow')",
   "language": "python",
   "name": "python3"
  },
  "language_info": {
   "codemirror_mode": {
    "name": "ipython",
    "version": 3
   },
   "file_extension": ".py",
   "mimetype": "text/x-python",
   "name": "python",
   "nbconvert_exporter": "python",
   "pygments_lexer": "ipython3",
   "version": "3.7.13"
  },
  "orig_nbformat": 4,
  "vscode": {
   "interpreter": {
    "hash": "46351c491966987bac499a70b9eb3cfa6654f8548f3e1b556c80bd36edd6baee"
   }
  }
 },
 "nbformat": 4,
 "nbformat_minor": 2
}
